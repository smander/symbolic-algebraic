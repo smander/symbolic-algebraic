{
 "cells": [
  {
   "cell_type": "code",
   "execution_count": 1,
   "metadata": {
    "collapsed": true,
    "ExecuteTime": {
     "start_time": "2024-11-10T14:18:33.064141Z",
     "end_time": "2024-11-10T14:18:35.000992Z"
    }
   },
   "outputs": [
    {
     "name": "stdout",
     "output_type": "stream",
     "text": [
      "Requirement already satisfied: angr in /Users/smander/projects/PHD/DNN/venv/lib/python3.9/site-packages (9.2.102)\r\n",
      "Requirement already satisfied: CppHeaderParser in /Users/smander/projects/PHD/DNN/venv/lib/python3.9/site-packages (from angr) (2.7.4)\r\n",
      "Requirement already satisfied: GitPython in /Users/smander/projects/PHD/DNN/venv/lib/python3.9/site-packages (from angr) (3.1.43)\r\n",
      "Requirement already satisfied: ailment==9.2.102 in /Users/smander/projects/PHD/DNN/venv/lib/python3.9/site-packages (from angr) (9.2.102)\r\n",
      "Requirement already satisfied: archinfo==9.2.102 in /Users/smander/projects/PHD/DNN/venv/lib/python3.9/site-packages (from angr) (9.2.102)\r\n",
      "Requirement already satisfied: cachetools in /Users/smander/projects/PHD/DNN/venv/lib/python3.9/site-packages (from angr) (5.3.3)\r\n",
      "Requirement already satisfied: capstone==5.0.0.post1 in /Users/smander/projects/PHD/DNN/venv/lib/python3.9/site-packages (from angr) (5.0.0.post1)\r\n",
      "Requirement already satisfied: cffi>=1.14.0 in /Users/smander/projects/PHD/DNN/venv/lib/python3.9/site-packages (from angr) (1.16.0)\r\n",
      "Requirement already satisfied: claripy==9.2.102 in /Users/smander/projects/PHD/DNN/venv/lib/python3.9/site-packages (from angr) (9.2.102)\r\n",
      "Requirement already satisfied: cle==9.2.102 in /Users/smander/projects/PHD/DNN/venv/lib/python3.9/site-packages (from angr) (9.2.102)\r\n",
      "Requirement already satisfied: dpkt in /Users/smander/projects/PHD/DNN/venv/lib/python3.9/site-packages (from angr) (1.9.8)\r\n",
      "Requirement already satisfied: itanium-demangler in /Users/smander/projects/PHD/DNN/venv/lib/python3.9/site-packages (from angr) (1.1)\r\n",
      "Requirement already satisfied: mulpyplexer in /Users/smander/projects/PHD/DNN/venv/lib/python3.9/site-packages (from angr) (0.9)\r\n",
      "Requirement already satisfied: nampa in /Users/smander/projects/PHD/DNN/venv/lib/python3.9/site-packages (from angr) (0.1.1)\r\n",
      "Requirement already satisfied: networkx!=2.8.1,>=2.0 in /Users/smander/projects/PHD/DNN/venv/lib/python3.9/site-packages (from angr) (3.2.1)\r\n",
      "Requirement already satisfied: protobuf>=3.19.0 in /Users/smander/projects/PHD/DNN/venv/lib/python3.9/site-packages (from angr) (4.25.3)\r\n",
      "Requirement already satisfied: psutil in /Users/smander/projects/PHD/DNN/venv/lib/python3.9/site-packages (from angr) (5.9.7)\r\n",
      "Requirement already satisfied: pycparser>=2.18 in /Users/smander/projects/PHD/DNN/venv/lib/python3.9/site-packages (from angr) (2.21)\r\n",
      "Requirement already satisfied: pyformlang in /Users/smander/projects/PHD/DNN/venv/lib/python3.9/site-packages (from angr) (1.0.10)\r\n",
      "Requirement already satisfied: pyvex==9.2.102 in /Users/smander/projects/PHD/DNN/venv/lib/python3.9/site-packages (from angr) (9.2.102)\r\n",
      "Requirement already satisfied: rich>=13.1.0 in /Users/smander/projects/PHD/DNN/venv/lib/python3.9/site-packages (from angr) (13.9.4)\r\n",
      "Requirement already satisfied: rpyc in /Users/smander/projects/PHD/DNN/venv/lib/python3.9/site-packages (from angr) (6.0.1)\r\n",
      "Requirement already satisfied: sortedcontainers in /Users/smander/projects/PHD/DNN/venv/lib/python3.9/site-packages (from angr) (2.4.0)\r\n",
      "Requirement already satisfied: sympy in /Users/smander/projects/PHD/DNN/venv/lib/python3.9/site-packages (from angr) (1.13.3)\r\n",
      "Requirement already satisfied: unicorn==2.0.1.post1 in /Users/smander/projects/PHD/DNN/venv/lib/python3.9/site-packages (from angr) (2.0.1.post1)\r\n",
      "Requirement already satisfied: unique-log-filter in /Users/smander/projects/PHD/DNN/venv/lib/python3.9/site-packages (from angr) (0.1.0)\r\n",
      "Requirement already satisfied: backports.strenum>=1.2.8 in /Users/smander/projects/PHD/DNN/venv/lib/python3.9/site-packages (from archinfo==9.2.102->angr) (1.3.1)\r\n",
      "Requirement already satisfied: decorator in /Users/smander/projects/PHD/DNN/venv/lib/python3.9/site-packages (from claripy==9.2.102->angr) (5.1.1)\r\n",
      "Requirement already satisfied: pysmt>=0.9.5 in /Users/smander/projects/PHD/DNN/venv/lib/python3.9/site-packages (from claripy==9.2.102->angr) (0.9.6)\r\n",
      "Requirement already satisfied: z3-solver==4.10.2.0 in /Users/smander/projects/PHD/DNN/venv/lib/python3.9/site-packages (from claripy==9.2.102->angr) (4.10.2.0)\r\n",
      "Requirement already satisfied: pefile in /Users/smander/projects/PHD/DNN/venv/lib/python3.9/site-packages (from cle==9.2.102->angr) (2024.8.26)\r\n",
      "Requirement already satisfied: pyelftools>=0.27 in /Users/smander/projects/PHD/DNN/venv/lib/python3.9/site-packages (from cle==9.2.102->angr) (0.31)\r\n",
      "Requirement already satisfied: bitstring in /Users/smander/projects/PHD/DNN/venv/lib/python3.9/site-packages (from pyvex==9.2.102->angr) (4.2.3)\r\n",
      "Requirement already satisfied: markdown-it-py>=2.2.0 in /Users/smander/projects/PHD/DNN/venv/lib/python3.9/site-packages (from rich>=13.1.0->angr) (3.0.0)\r\n",
      "Requirement already satisfied: pygments<3.0.0,>=2.13.0 in /Users/smander/projects/PHD/DNN/venv/lib/python3.9/site-packages (from rich>=13.1.0->angr) (2.17.2)\r\n",
      "Requirement already satisfied: typing-extensions<5.0,>=4.0.0 in /Users/smander/projects/PHD/DNN/venv/lib/python3.9/site-packages (from rich>=13.1.0->angr) (4.9.0)\r\n",
      "Requirement already satisfied: ply in /Users/smander/projects/PHD/DNN/venv/lib/python3.9/site-packages (from CppHeaderParser->angr) (3.11)\r\n",
      "Requirement already satisfied: gitdb<5,>=4.0.1 in /Users/smander/projects/PHD/DNN/venv/lib/python3.9/site-packages (from GitPython->angr) (4.0.11)\r\n",
      "Requirement already satisfied: future in /Users/smander/projects/PHD/DNN/venv/lib/python3.9/site-packages (from nampa->angr) (1.0.0)\r\n",
      "Requirement already satisfied: numpy in /Users/smander/projects/PHD/DNN/venv/lib/python3.9/site-packages (from pyformlang->angr) (1.26.3)\r\n",
      "Requirement already satisfied: pydot in /Users/smander/projects/PHD/DNN/venv/lib/python3.9/site-packages (from pyformlang->angr) (3.0.2)\r\n",
      "Requirement already satisfied: plumbum in /Users/smander/projects/PHD/DNN/venv/lib/python3.9/site-packages (from rpyc->angr) (1.9.0)\r\n",
      "Requirement already satisfied: mpmath<1.4,>=1.1.0 in /Users/smander/projects/PHD/DNN/venv/lib/python3.9/site-packages (from sympy->angr) (1.3.0)\r\n",
      "Requirement already satisfied: smmap<6,>=3.0.1 in /Users/smander/projects/PHD/DNN/venv/lib/python3.9/site-packages (from gitdb<5,>=4.0.1->GitPython->angr) (5.0.1)\r\n",
      "Requirement already satisfied: mdurl~=0.1 in /Users/smander/projects/PHD/DNN/venv/lib/python3.9/site-packages (from markdown-it-py>=2.2.0->rich>=13.1.0->angr) (0.1.2)\r\n",
      "Requirement already satisfied: bitarray<3.0.0,>=2.9.0 in /Users/smander/projects/PHD/DNN/venv/lib/python3.9/site-packages (from bitstring->pyvex==9.2.102->angr) (2.9.3)\r\n",
      "Requirement already satisfied: pyparsing>=3.0.9 in /Users/smander/projects/PHD/DNN/venv/lib/python3.9/site-packages (from pydot->pyformlang->angr) (3.1.1)\r\n"
     ]
    }
   ],
   "source": [
    "!pip install angr\n"
   ]
  },
  {
   "cell_type": "code",
   "execution_count": 7,
   "outputs": [
    {
     "name": "stderr",
     "output_type": "stream",
     "text": [
      "WARNING  | 2024-11-10 14:23:42,720 | cle.backends.blob | No entry_point was specified for blob dummy_text.bin, assuming 0\n"
     ]
    },
    {
     "name": "stdout",
     "output_type": "stream",
     "text": [
      "Solution found: [b'.', b'Q', b'1', b'@']\n"
     ]
    }
   ],
   "source": [
    "import angr\n",
    "import claripy\n",
    "\n",
    "# Load an arbitrary file as a \"blob\" (raw bytes) with Angr\n",
    "binary_path = '/Users/smander/projects/PHD/binaryAngr/dummy_text.bin'  # This could be any file, even if it's not a true binary\n",
    "project = angr.Project(binary_path, main_opts={'backend': 'blob', 'arch': 'x86', 'base_addr': 0x400000})\n",
    "\n",
    "# Create symbolic input and constraints as before\n",
    "byte1 = claripy.BVS('byte1', 8)\n",
    "byte2 = claripy.BVS('byte2', 8)\n",
    "byte3 = claripy.BVS('byte3', 8)\n",
    "byte4 = claripy.BVS('byte4', 8)\n",
    "\n",
    "state = project.factory.blank_state()\n",
    "state.solver.add(byte1 + byte2 + byte3 + byte4 == 240)\n",
    "for byte in [byte1, byte2, byte3, byte4]:\n",
    "    state.solver.add(byte >= 0x20)\n",
    "    state.solver.add(byte <= 0x7e)\n",
    "\n",
    "# Run symbolic execution\n",
    "simgr = project.factory.simgr(state)\n",
    "simgr.explore(find=lambda s: True)\n",
    "\n",
    "if simgr.found:\n",
    "    solution = [simgr.found[0].solver.eval(byte, cast_to=bytes) for byte in [byte1, byte2, byte3, byte4]]\n",
    "    print(\"Solution found:\", solution)\n",
    "else:\n",
    "    print(\"No solution satisfies the constraints.\")\n"
   ],
   "metadata": {
    "collapsed": false,
    "ExecuteTime": {
     "start_time": "2024-11-10T14:23:42.720652Z",
     "end_time": "2024-11-10T14:23:42.885271Z"
    }
   }
  },
  {
   "cell_type": "code",
   "execution_count": null,
   "outputs": [],
   "source": [],
   "metadata": {
    "collapsed": false
   }
  }
 ],
 "metadata": {
  "kernelspec": {
   "display_name": "Python 3",
   "language": "python",
   "name": "python3"
  },
  "language_info": {
   "codemirror_mode": {
    "name": "ipython",
    "version": 2
   },
   "file_extension": ".py",
   "mimetype": "text/x-python",
   "name": "python",
   "nbconvert_exporter": "python",
   "pygments_lexer": "ipython2",
   "version": "2.7.6"
  }
 },
 "nbformat": 4,
 "nbformat_minor": 0
}
