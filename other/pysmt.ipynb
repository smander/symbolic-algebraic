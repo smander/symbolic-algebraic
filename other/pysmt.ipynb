{
 "cells": [
  {
   "cell_type": "code",
   "execution_count": 7,
   "outputs": [
    {
     "name": "stdout",
     "output_type": "stream",
     "text": [
      "Requirement already satisfied: pysmt in /Users/smander/projects/PHD/DNN/venv/lib/python3.9/site-packages (0.9.6)\r\n",
      "/Users/smander/projects/PHD/DNN/venv/lib/python3.9/site-packages/setuptools/command/install.py:34: SetuptoolsDeprecationWarning: setup.py install is deprecated. Use build and pip and other standards-based tools.\r\n",
      "  warnings.warn(\r\n",
      "usage: pysmt-install [-h] [--version] [--msat] [--cvc5] [--cvc4] [--z3]\r\n",
      "                     [--yices] [--btor] [--picosat] [--bdd] [--all] [--force]\r\n",
      "                     [--check] [--env] [--powershell] [--confirm-agreement]\r\n",
      "                     [--install-path INSTALL_PATH]\r\n",
      "                     [--bindings-path BINDINGS_PATH]\r\n",
      "pysmt-install: error: unrecognized arguments: --stp\r\n"
     ]
    }
   ],
   "source": [
    "\n",
    "!pip install pysmt\n",
    "!pysmt-install --stp\n",
    "\n"
   ],
   "metadata": {
    "collapsed": false,
    "ExecuteTime": {
     "start_time": "2024-11-10T14:14:12.984654Z",
     "end_time": "2024-11-10T14:14:15.531205Z"
    }
   }
  },
  {
   "cell_type": "code",
   "execution_count": 9,
   "outputs": [
    {
     "ename": "AttributeError",
     "evalue": "'int' object has no attribute 'args'",
     "output_type": "error",
     "traceback": [
      "\u001B[0;31m---------------------------------------------------------------------------\u001B[0m",
      "\u001B[0;31mAttributeError\u001B[0m                            Traceback (most recent call last)",
      "Cell \u001B[0;32mIn[9], line 13\u001B[0m\n\u001B[1;32m      7\u001B[0m byte2 \u001B[38;5;241m=\u001B[39m Symbol(\u001B[38;5;124m\"\u001B[39m\u001B[38;5;124mbyte2\u001B[39m\u001B[38;5;124m\"\u001B[39m, INT)\n\u001B[1;32m      9\u001B[0m \u001B[38;5;66;03m# Define byte constraints\u001B[39;00m\n\u001B[1;32m     10\u001B[0m constraints \u001B[38;5;241m=\u001B[39m And(\n\u001B[1;32m     11\u001B[0m     Equals(Plus(byte1, byte2), \u001B[38;5;241m240\u001B[39m),\n\u001B[1;32m     12\u001B[0m     GE(byte1, \u001B[38;5;241m0\u001B[39m), LE(byte1, \u001B[38;5;241m255\u001B[39m),\n\u001B[0;32m---> 13\u001B[0m     GE(byte2, \u001B[38;5;241m0\u001B[39m), \u001B[43mLE\u001B[49m\u001B[43m(\u001B[49m\u001B[43mbyte2\u001B[49m\u001B[43m,\u001B[49m\u001B[43m \u001B[49m\u001B[38;5;241;43m255\u001B[39;49m\u001B[43m)\u001B[49m\n\u001B[1;32m     14\u001B[0m )\n\u001B[1;32m     16\u001B[0m \u001B[38;5;66;03m# Solve with STP\u001B[39;00m\n\u001B[1;32m     17\u001B[0m model \u001B[38;5;241m=\u001B[39m get_model(constraints, solver_name\u001B[38;5;241m=\u001B[39m\u001B[38;5;124m\"\u001B[39m\u001B[38;5;124mstp\u001B[39m\u001B[38;5;124m\"\u001B[39m)\n",
      "File \u001B[0;32m~/projects/PHD/DNN/venv/lib/python3.9/site-packages/pysmt/shortcuts.py:223\u001B[0m, in \u001B[0;36mLE\u001B[0;34m(left, right)\u001B[0m\n\u001B[1;32m    221\u001B[0m \u001B[38;5;28;01mdef\u001B[39;00m \u001B[38;5;21mLE\u001B[39m(left, right):\n\u001B[1;32m    222\u001B[0m \u001B[38;5;250m    \u001B[39m\u001B[38;5;124mr\u001B[39m\u001B[38;5;124;03m\"\"\".. math:: l \\le r\"\"\"\u001B[39;00m\n\u001B[0;32m--> 223\u001B[0m     \u001B[38;5;28;01mreturn\u001B[39;00m \u001B[43mget_env\u001B[49m\u001B[43m(\u001B[49m\u001B[43m)\u001B[49m\u001B[38;5;241;43m.\u001B[39;49m\u001B[43mformula_manager\u001B[49m\u001B[38;5;241;43m.\u001B[39;49m\u001B[43mLE\u001B[49m\u001B[43m(\u001B[49m\u001B[43mleft\u001B[49m\u001B[43m,\u001B[49m\u001B[43m \u001B[49m\u001B[43mright\u001B[49m\u001B[43m)\u001B[49m\n",
      "File \u001B[0;32m~/projects/PHD/DNN/venv/lib/python3.9/site-packages/pysmt/formula.py:310\u001B[0m, in \u001B[0;36mFormulaManager.LE\u001B[0;34m(self, left, right)\u001B[0m\n\u001B[1;32m    304\u001B[0m \u001B[38;5;28;01mdef\u001B[39;00m \u001B[38;5;21mLE\u001B[39m(\u001B[38;5;28mself\u001B[39m, left, right):\n\u001B[1;32m    305\u001B[0m \u001B[38;5;250m    \u001B[39m\u001B[38;5;124;03m\"\"\" Creates an expression of the form:\u001B[39;00m\n\u001B[1;32m    306\u001B[0m \u001B[38;5;124;03m        left <= right\u001B[39;00m\n\u001B[1;32m    307\u001B[0m \n\u001B[1;32m    308\u001B[0m \u001B[38;5;124;03m    Restriction: Left and Right must be both REAL or INT type\u001B[39;00m\n\u001B[1;32m    309\u001B[0m \u001B[38;5;124;03m    \"\"\"\u001B[39;00m\n\u001B[0;32m--> 310\u001B[0m     \u001B[38;5;28;01mreturn\u001B[39;00m \u001B[38;5;28;43mself\u001B[39;49m\u001B[38;5;241;43m.\u001B[39;49m\u001B[43mcreate_node\u001B[49m\u001B[43m(\u001B[49m\u001B[43mnode_type\u001B[49m\u001B[38;5;241;43m=\u001B[39;49m\u001B[43mop\u001B[49m\u001B[38;5;241;43m.\u001B[39;49m\u001B[43mLE\u001B[49m\u001B[43m,\u001B[49m\u001B[43m \u001B[49m\u001B[43margs\u001B[49m\u001B[38;5;241;43m=\u001B[39;49m\u001B[43m(\u001B[49m\u001B[43mleft\u001B[49m\u001B[43m,\u001B[49m\u001B[43m \u001B[49m\u001B[43mright\u001B[49m\u001B[43m)\u001B[49m\u001B[43m)\u001B[49m\n",
      "File \u001B[0;32m~/projects/PHD/DNN/venv/lib/python3.9/site-packages/pysmt/formula.py:97\u001B[0m, in \u001B[0;36mFormulaManager.create_node\u001B[0;34m(self, node_type, args, payload)\u001B[0m\n\u001B[1;32m     95\u001B[0m \u001B[38;5;28mself\u001B[39m\u001B[38;5;241m.\u001B[39m_next_free_id \u001B[38;5;241m+\u001B[39m\u001B[38;5;241m=\u001B[39m \u001B[38;5;241m1\u001B[39m\n\u001B[1;32m     96\u001B[0m \u001B[38;5;28mself\u001B[39m\u001B[38;5;241m.\u001B[39mformulae[content] \u001B[38;5;241m=\u001B[39m n\n\u001B[0;32m---> 97\u001B[0m \u001B[38;5;28;43mself\u001B[39;49m\u001B[38;5;241;43m.\u001B[39;49m\u001B[43m_do_type_check\u001B[49m\u001B[43m(\u001B[49m\u001B[43mn\u001B[49m\u001B[43m)\u001B[49m\n\u001B[1;32m     98\u001B[0m \u001B[38;5;28;01mreturn\u001B[39;00m n\n",
      "File \u001B[0;32m~/projects/PHD/DNN/venv/lib/python3.9/site-packages/pysmt/formula.py:82\u001B[0m, in \u001B[0;36mFormulaManager._do_type_check_real\u001B[0;34m(self, formula)\u001B[0m\n\u001B[1;32m     81\u001B[0m \u001B[38;5;28;01mdef\u001B[39;00m \u001B[38;5;21m_do_type_check_real\u001B[39m(\u001B[38;5;28mself\u001B[39m, formula):\n\u001B[0;32m---> 82\u001B[0m     \u001B[38;5;28;43mself\u001B[39;49m\u001B[38;5;241;43m.\u001B[39;49m\u001B[43mget_type\u001B[49m\u001B[43m(\u001B[49m\u001B[43mformula\u001B[49m\u001B[43m)\u001B[49m\n",
      "File \u001B[0;32m~/projects/PHD/DNN/venv/lib/python3.9/site-packages/pysmt/type_checker.py:45\u001B[0m, in \u001B[0;36mSimpleTypeChecker.get_type\u001B[0;34m(self, formula)\u001B[0m\n\u001B[1;32m     43\u001B[0m \u001B[38;5;28;01mdef\u001B[39;00m \u001B[38;5;21mget_type\u001B[39m(\u001B[38;5;28mself\u001B[39m, formula):\n\u001B[1;32m     44\u001B[0m \u001B[38;5;250m    \u001B[39m\u001B[38;5;124;03m\"\"\" Returns the pysmt.types type of the formula \"\"\"\u001B[39;00m\n\u001B[0;32m---> 45\u001B[0m     res \u001B[38;5;241m=\u001B[39m \u001B[38;5;28;43mself\u001B[39;49m\u001B[38;5;241;43m.\u001B[39;49m\u001B[43mwalk\u001B[49m\u001B[43m(\u001B[49m\u001B[43mformula\u001B[49m\u001B[43m)\u001B[49m\n\u001B[1;32m     46\u001B[0m     \u001B[38;5;28;01mif\u001B[39;00m \u001B[38;5;129;01mnot\u001B[39;00m \u001B[38;5;28mself\u001B[39m\u001B[38;5;241m.\u001B[39mbe_nice \u001B[38;5;129;01mand\u001B[39;00m res \u001B[38;5;129;01mis\u001B[39;00m \u001B[38;5;28;01mNone\u001B[39;00m:\n\u001B[1;32m     47\u001B[0m         \u001B[38;5;28;01mraise\u001B[39;00m PysmtTypeError(\u001B[38;5;124m\"\u001B[39m\u001B[38;5;124mThe formula \u001B[39m\u001B[38;5;124m'\u001B[39m\u001B[38;5;132;01m%s\u001B[39;00m\u001B[38;5;124m'\u001B[39m\u001B[38;5;124m is not well-formed\u001B[39m\u001B[38;5;124m\"\u001B[39m\n\u001B[1;32m     48\u001B[0m                              \u001B[38;5;241m%\u001B[39m \u001B[38;5;28mstr\u001B[39m(formula))\n",
      "File \u001B[0;32m~/projects/PHD/DNN/venv/lib/python3.9/site-packages/pysmt/walkers/dag.py:106\u001B[0m, in \u001B[0;36mDagWalker.walk\u001B[0;34m(self, formula, **kwargs)\u001B[0m\n\u001B[1;32m    103\u001B[0m \u001B[38;5;28;01mif\u001B[39;00m formula \u001B[38;5;129;01min\u001B[39;00m \u001B[38;5;28mself\u001B[39m\u001B[38;5;241m.\u001B[39mmemoization:\n\u001B[1;32m    104\u001B[0m     \u001B[38;5;28;01mreturn\u001B[39;00m \u001B[38;5;28mself\u001B[39m\u001B[38;5;241m.\u001B[39mmemoization[formula]\n\u001B[0;32m--> 106\u001B[0m res \u001B[38;5;241m=\u001B[39m \u001B[38;5;28;43mself\u001B[39;49m\u001B[38;5;241;43m.\u001B[39;49m\u001B[43miter_walk\u001B[49m\u001B[43m(\u001B[49m\u001B[43mformula\u001B[49m\u001B[43m,\u001B[49m\u001B[43m \u001B[49m\u001B[38;5;241;43m*\u001B[39;49m\u001B[38;5;241;43m*\u001B[39;49m\u001B[43mkwargs\u001B[49m\u001B[43m)\u001B[49m\n\u001B[1;32m    108\u001B[0m \u001B[38;5;28;01mif\u001B[39;00m \u001B[38;5;28mself\u001B[39m\u001B[38;5;241m.\u001B[39minvalidate_memoization:\n\u001B[1;32m    109\u001B[0m     \u001B[38;5;28mself\u001B[39m\u001B[38;5;241m.\u001B[39mmemoization\u001B[38;5;241m.\u001B[39mclear()\n",
      "File \u001B[0;32m~/projects/PHD/DNN/venv/lib/python3.9/site-packages/pysmt/walkers/dag.py:98\u001B[0m, in \u001B[0;36mDagWalker.iter_walk\u001B[0;34m(self, formula, **kwargs)\u001B[0m\n\u001B[1;32m     96\u001B[0m \u001B[38;5;250m\u001B[39m\u001B[38;5;124;03m\"\"\"Performs an iterative walk of the DAG\"\"\"\u001B[39;00m\n\u001B[1;32m     97\u001B[0m \u001B[38;5;28mself\u001B[39m\u001B[38;5;241m.\u001B[39mstack\u001B[38;5;241m.\u001B[39mappend((\u001B[38;5;28;01mFalse\u001B[39;00m, formula))\n\u001B[0;32m---> 98\u001B[0m \u001B[38;5;28;43mself\u001B[39;49m\u001B[38;5;241;43m.\u001B[39;49m\u001B[43m_process_stack\u001B[49m\u001B[43m(\u001B[49m\u001B[38;5;241;43m*\u001B[39;49m\u001B[38;5;241;43m*\u001B[39;49m\u001B[43mkwargs\u001B[49m\u001B[43m)\u001B[49m\n\u001B[1;32m     99\u001B[0m res_key \u001B[38;5;241m=\u001B[39m \u001B[38;5;28mself\u001B[39m\u001B[38;5;241m.\u001B[39m_get_key(formula, \u001B[38;5;241m*\u001B[39m\u001B[38;5;241m*\u001B[39mkwargs)\n\u001B[1;32m    100\u001B[0m \u001B[38;5;28;01mreturn\u001B[39;00m \u001B[38;5;28mself\u001B[39m\u001B[38;5;241m.\u001B[39mmemoization[res_key]\n",
      "File \u001B[0;32m~/projects/PHD/DNN/venv/lib/python3.9/site-packages/pysmt/walkers/dag.py:93\u001B[0m, in \u001B[0;36mDagWalker._process_stack\u001B[0;34m(self, **kwargs)\u001B[0m\n\u001B[1;32m     91\u001B[0m     \u001B[38;5;28mself\u001B[39m\u001B[38;5;241m.\u001B[39m_compute_node_result(formula, \u001B[38;5;241m*\u001B[39m\u001B[38;5;241m*\u001B[39mkwargs)\n\u001B[1;32m     92\u001B[0m \u001B[38;5;28;01melse\u001B[39;00m:\n\u001B[0;32m---> 93\u001B[0m     \u001B[38;5;28;43mself\u001B[39;49m\u001B[38;5;241;43m.\u001B[39;49m\u001B[43m_push_with_children_to_stack\u001B[49m\u001B[43m(\u001B[49m\u001B[43mformula\u001B[49m\u001B[43m,\u001B[49m\u001B[43m \u001B[49m\u001B[38;5;241;43m*\u001B[39;49m\u001B[38;5;241;43m*\u001B[39;49m\u001B[43mkwargs\u001B[49m\u001B[43m)\u001B[49m\n",
      "File \u001B[0;32m~/projects/PHD/DNN/venv/lib/python3.9/site-packages/pysmt/walkers/dag.py:54\u001B[0m, in \u001B[0;36mDagWalker._push_with_children_to_stack\u001B[0;34m(self, formula, **kwargs)\u001B[0m\n\u001B[1;32m     52\u001B[0m \u001B[38;5;250m\u001B[39m\u001B[38;5;124;03m\"\"\"Add children to the stack.\"\"\"\u001B[39;00m\n\u001B[1;32m     53\u001B[0m \u001B[38;5;28mself\u001B[39m\u001B[38;5;241m.\u001B[39mstack\u001B[38;5;241m.\u001B[39mappend((\u001B[38;5;28;01mTrue\u001B[39;00m, formula))\n\u001B[0;32m---> 54\u001B[0m \u001B[38;5;28;01mfor\u001B[39;00m s \u001B[38;5;129;01min\u001B[39;00m \u001B[38;5;28;43mself\u001B[39;49m\u001B[38;5;241;43m.\u001B[39;49m\u001B[43m_get_children\u001B[49m\u001B[43m(\u001B[49m\u001B[43mformula\u001B[49m\u001B[43m)\u001B[49m:\n\u001B[1;32m     55\u001B[0m     \u001B[38;5;66;03m# Add only if not memoized already\u001B[39;00m\n\u001B[1;32m     56\u001B[0m     key \u001B[38;5;241m=\u001B[39m \u001B[38;5;28mself\u001B[39m\u001B[38;5;241m.\u001B[39m_get_key(s, \u001B[38;5;241m*\u001B[39m\u001B[38;5;241m*\u001B[39mkwargs)\n\u001B[1;32m     57\u001B[0m     \u001B[38;5;28;01mif\u001B[39;00m key \u001B[38;5;129;01mnot\u001B[39;00m \u001B[38;5;129;01min\u001B[39;00m \u001B[38;5;28mself\u001B[39m\u001B[38;5;241m.\u001B[39mmemoization:\n",
      "File \u001B[0;32m~/projects/PHD/DNN/venv/lib/python3.9/site-packages/pysmt/walkers/dag.py:49\u001B[0m, in \u001B[0;36mDagWalker._get_children\u001B[0;34m(self, formula)\u001B[0m\n\u001B[1;32m     48\u001B[0m \u001B[38;5;28;01mdef\u001B[39;00m \u001B[38;5;21m_get_children\u001B[39m(\u001B[38;5;28mself\u001B[39m, formula):\n\u001B[0;32m---> 49\u001B[0m     \u001B[38;5;28;01mreturn\u001B[39;00m \u001B[43mformula\u001B[49m\u001B[38;5;241;43m.\u001B[39;49m\u001B[43margs\u001B[49m()\n",
      "\u001B[0;31mAttributeError\u001B[0m: 'int' object has no attribute 'args'"
     ]
    }
   ],
   "source": [
    "import pysmt as pysmt\n",
    "from pysmt.shortcuts import Symbol, And, Equals, GE, LE, Plus, get_model\n",
    "from pysmt.typing import INT\n",
    "\n",
    "# Define byte-level variables\n",
    "byte1 = Symbol(\"byte1\", INT)\n",
    "byte2 = Symbol(\"byte2\", INT)\n",
    "\n",
    "# Define byte constraints\n",
    "constraints = And(\n",
    "    Equals(Plus(byte1, byte2), 240),\n",
    "    GE(byte1, 0), LE(byte1, 255),\n",
    "    GE(byte2, 0), LE(byte2, 255)\n",
    ")\n",
    "\n",
    "# Solve with STP\n",
    "model = get_model(constraints, solver_name=\"stp\")\n",
    "if model:\n",
    "    print(\"Solution found:\")\n",
    "    print(f\"byte1 = {model[byte1]}\")\n",
    "    print(f\"byte2 = {model[byte2]}\")\n",
    "else:\n",
    "    print(\"No solution found.\")\n"
   ],
   "metadata": {
    "collapsed": false
   }
  },
  {
   "cell_type": "code",
   "execution_count": 9,
   "outputs": [],
   "source": [],
   "metadata": {
    "collapsed": false,
    "ExecuteTime": {
     "start_time": "2024-11-10T14:15:13.347005Z",
     "end_time": "2024-11-10T14:15:13.354953Z"
    }
   }
  },
  {
   "cell_type": "code",
   "execution_count": null,
   "outputs": [],
   "source": [],
   "metadata": {
    "collapsed": false
   }
  }
 ],
 "metadata": {
  "kernelspec": {
   "display_name": "Python 3",
   "language": "python",
   "name": "python3"
  },
  "language_info": {
   "codemirror_mode": {
    "name": "ipython",
    "version": 2
   },
   "file_extension": ".py",
   "mimetype": "text/x-python",
   "name": "python",
   "nbconvert_exporter": "python",
   "pygments_lexer": "ipython2",
   "version": "2.7.6"
  }
 },
 "nbformat": 4,
 "nbformat_minor": 0
}
