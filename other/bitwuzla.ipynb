{
 "cells": [
  {
   "cell_type": "code",
   "execution_count": 1,
   "outputs": [
    {
     "name": "stdout",
     "output_type": "stream",
     "text": [
      "\u001B[31mERROR: Could not find a version that satisfies the requirement bitwuzla (from versions: none)\u001B[0m\u001B[31m\r\n",
      "\u001B[0m\u001B[31mERROR: No matching distribution found for bitwuzla\u001B[0m\u001B[31m\r\n",
      "\u001B[0m"
     ]
    }
   ],
   "source": [
    "!pip install bitwuzla"
   ],
   "metadata": {
    "collapsed": false,
    "ExecuteTime": {
     "start_time": "2024-11-10T17:35:13.652820Z",
     "end_time": "2024-11-10T17:35:15.055249Z"
    }
   }
  },
  {
   "cell_type": "code",
   "execution_count": null,
   "outputs": [],
   "source": [
    "from bitwuzla import Bitwuzla, Sort, Term\n",
    "\n",
    "# Initialize Bitwuzla solver\n",
    "bzla = Bitwuzla()\n",
    "\n",
    "# Define 8-bit bit-vector sort (representing a byte)\n",
    "bv8 = Sort.bv(8)\n",
    "\n",
    "# Create four symbolic byte variables\n",
    "byte1 = Term.const(bv8, \"byte1\")\n",
    "byte2 = Term.const(bv8, \"byte2\")\n",
    "byte3 = Term.const(bv8, \"byte3\")\n",
    "byte4 = Term.const(bv8, \"byte4\")\n",
    "\n",
    "# Constraint: Sum of bytes equals 240\n",
    "sum_constraint = Term.bvadd(byte1, Term.bvadd(byte2, Term.bvadd(byte3, byte4)))\n",
    "bzla.assert_formula(Term.eq(sum_constraint, Term.bv_value(8, 240)))\n",
    "\n",
    "# Constraints: Each byte is between 0x20 (32 in decimal) and 0x7e (126 in decimal)\n",
    "for byte in [byte1, byte2, byte3, byte4]:\n",
    "    bzla.assert_formula(Term.bvuge(byte, Term.bv_value(8, 0x20)))  # byte >= 0x20\n",
    "    bzla.assert_formula(Term.bvule(byte, Term.bv_value(8, 0x7e)))  # byte <= 0x7e\n",
    "\n",
    "# Check satisfiability\n",
    "if bzla.check_sat():\n",
    "    # Retrieve model values for each byte\n",
    "    model_byte1 = bzla.get_value(byte1)\n",
    "    model_byte2 = bzla.get_value(byte2)\n",
    "    model_byte3 = bzla.get_value(byte3)\n",
    "    model_byte4 = bzla.get_value(byte4)\n",
    "\n",
    "    print(\"Solution found:\")\n",
    "    print(\"byte1 =\", int(model_byte1))\n",
    "    print(\"byte2 =\", int(model_byte2))\n",
    "    print(\"byte3 =\", int(model_byte3))\n",
    "    print(\"byte4 =\", int(model_byte4))\n",
    "else:\n",
    "    print(\"No solution satisfies the constraints.\")\n"
   ],
   "metadata": {
    "collapsed": false
   }
  }
 ],
 "metadata": {
  "kernelspec": {
   "display_name": "Python 3",
   "language": "python",
   "name": "python3"
  },
  "language_info": {
   "codemirror_mode": {
    "name": "ipython",
    "version": 2
   },
   "file_extension": ".py",
   "mimetype": "text/x-python",
   "name": "python",
   "nbconvert_exporter": "python",
   "pygments_lexer": "ipython2",
   "version": "2.7.6"
  }
 },
 "nbformat": 4,
 "nbformat_minor": 0
}
