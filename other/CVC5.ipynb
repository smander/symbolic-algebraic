{
 "cells": [
  {
   "cell_type": "code",
   "execution_count": 4,
   "outputs": [
    {
     "name": "stdout",
     "output_type": "stream",
     "text": [
      "Requirement already satisfied: cvc5 in /Users/smander/projects/PHD/DNN/venv/lib/python3.9/site-packages (1.2.0)\r\n"
     ]
    }
   ],
   "source": [
    "!pip install cvc5"
   ],
   "metadata": {
    "collapsed": false,
    "ExecuteTime": {
     "start_time": "2024-11-10T00:28:35.903169Z",
     "end_time": "2024-11-10T00:28:37.595670Z"
    }
   }
  },
  {
   "cell_type": "code",
   "execution_count": 1,
   "outputs": [
    {
     "name": "stdout",
     "output_type": "stream",
     "text": [
      "DEBUG (and (= flags (bvor #b00000010 #b00010000)) (= dest_port #b0000000001010000))\n",
      "SYN-ACK Packet Model:\n",
      "Source Port: #b0000000000000000\n",
      "Destination Port: #b0000000001010000\n",
      "Sequence Number: #b00000000000000000000000000000000\n",
      "Acknowledgment Number: #b00000000000000000000000000000000\n",
      "Data Offset + Reserved + Flags: #b00000000\n",
      "Flags: #b00010010\n",
      "Window Size: #b0000000000000000\n",
      "Checksum: #b0000000000000000\n",
      "Urgent Pointer: #b0000000000000000\n"
     ]
    }
   ],
   "source": [
    "from cvc5 import Solver, Kind\n",
    "\n",
    "# Initialize cvc5 solver\n",
    "solver = Solver()\n",
    "solver.setOption(\"produce-models\", \"true\")\n",
    "solver.setLogic(\"QF_BV\")  # Quantifier-free bit-vector logic\n",
    "\n",
    "# Define TCP Header Fields as symbolic bit-vectors\n",
    "\n",
    "\n",
    "# 16-bit source port and destination port\n",
    "source_port = solver.mkConst(solver.mkBitVectorSort(16), \"source_port\")\n",
    "dest_port = solver.mkConst(solver.mkBitVectorSort(16), \"dest_port\")\n",
    "\n",
    "# 32-bit sequence number and acknowledgment number\n",
    "sequence_number = solver.mkConst(solver.mkBitVectorSort(32), \"sequence_number\")\n",
    "ack_number = solver.mkConst(solver.mkBitVectorSort(32), \"ack_number\")\n",
    "\n",
    "# 8-bit data offset + reserved + flags, and flags (for simplicity, we will treat these as two separate bytes)\n",
    "data_offset_reserved_flags = solver.mkConst(solver.mkBitVectorSort(8), \"data_offset_reserved_flags\")\n",
    "flags = solver.mkConst(solver.mkBitVectorSort(8), \"flags\")\n",
    "\n",
    "# 16-bit window size, checksum, and urgent pointer\n",
    "window_size = solver.mkConst(solver.mkBitVectorSort(16), \"window_size\")\n",
    "checksum = solver.mkConst(solver.mkBitVectorSort(16), \"checksum\")\n",
    "urgent_pointer = solver.mkConst(solver.mkBitVectorSort(16), \"urgent_pointer\")\n",
    "\n",
    "\n",
    "#test\n",
    "\n",
    "# Define flag bit values\n",
    "URG_FLAG = solver.mkBitVector(8, 0x20)  # URG flag (0b00100000)\n",
    "ACK_FLAG = solver.mkBitVector(8, 0x10)  # ACK flag (0b00010000)\n",
    "PSH_FLAG = solver.mkBitVector(8, 0x08)  # PSH flag (0b00001000)\n",
    "RST_FLAG = solver.mkBitVector(8, 0x04)  # RST flag (0b00000100)\n",
    "SYN_FLAG = solver.mkBitVector(8, 0x02)  # SYN flag (0b00000010)\n",
    "FIN_FLAG = solver.mkBitVector(8, 0x01)  # FIN flag (0b00000001)\n",
    "\n",
    "# Example: Constraint for SYN-ACK packet\n",
    "# Combine SYN and ACK flags using bitwise OR to create SYN-ACK flag\n",
    "syn_ack_flags = solver.mkTerm(Kind.BITVECTOR_OR, SYN_FLAG, ACK_FLAG)\n",
    "\n",
    "# Constraint: flags should be SYN-ACK (SYN + ACK) and destination port should be 80\n",
    "is_syn_ack_packet = solver.mkTerm(Kind.EQUAL, flags, syn_ack_flags)\n",
    "is_dest_port_80 = solver.mkTerm(Kind.EQUAL, dest_port, solver.mkBitVector(16, 80))\n",
    "\n",
    "# Combine constraints for a SYN-ACK packet directed to port 80\n",
    "syn_ack_constraints = solver.mkTerm(Kind.AND, is_syn_ack_packet, is_dest_port_80)\n",
    "\n",
    "print(\"DEBUG\", syn_ack_constraints)\n",
    "\n",
    "# Add constraints to the solver\n",
    "solver.assertFormula(syn_ack_constraints)\n",
    "\n",
    "# Check if there's a valid assignment (satisfiable model) for the constraints\n",
    "if solver.checkSat().isSat():\n",
    "    # Get and display values for each field\n",
    "    model_source_port = solver.getValue(source_port)\n",
    "    model_dest_port = solver.getValue(dest_port)\n",
    "    model_sequence_number = solver.getValue(sequence_number)\n",
    "    model_ack_number = solver.getValue(ack_number)\n",
    "    model_data_offset_reserved_flags = solver.getValue(data_offset_reserved_flags)\n",
    "    model_flags = solver.getValue(flags)\n",
    "    model_window_size = solver.getValue(window_size)\n",
    "    model_checksum = solver.getValue(checksum)\n",
    "    model_urgent_pointer = solver.getValue(urgent_pointer)\n",
    "\n",
    "    print(\"SYN-ACK Packet Model:\")\n",
    "    print(\"Source Port:\", str(model_source_port))\n",
    "    print(\"Destination Port:\", str(model_dest_port))\n",
    "    print(\"Sequence Number:\", str(model_sequence_number))\n",
    "    print(\"Acknowledgment Number:\", str(model_ack_number))\n",
    "    print(\"Data Offset + Reserved + Flags:\", str(model_data_offset_reserved_flags))\n",
    "    print(\"Flags:\", str(model_flags))\n",
    "    print(\"Window Size:\", str(model_window_size))\n",
    "    print(\"Checksum:\", str(model_checksum))\n",
    "    print(\"Urgent Pointer:\", str(model_urgent_pointer))\n",
    "else:\n",
    "    print(\"No satisfiable solution found for the SYN-ACK constraints.\")\n",
    "\n",
    "\n",
    "    #TODO\n",
    "    # How to to extract from exe code and understand how instructions works with dynamic libraries\n",
    "    # Binary - deserialize/deassembler (OBJ) instructions from binary - we need to get TEXT\n",
    "    # INTEL X86 deassembler with use DYNAMIC LIBRARY - exe\n"
   ],
   "metadata": {
    "collapsed": false,
    "ExecuteTime": {
     "start_time": "2024-11-11T19:25:01.159858Z",
     "end_time": "2024-11-11T19:25:01.443881Z"
    }
   }
  },
  {
   "cell_type": "code",
   "execution_count": 9,
   "outputs": [
    {
     "name": "stdout",
     "output_type": "stream",
     "text": [
      "TCP Packet Model:\n",
      "Source Port: #b0000000000000000\n",
      "Destination Port: #b0000000001010000\n",
      "Sequence Number: #b00000000000000000000000000000000\n",
      "Acknowledgment Number: #b00000000000000000000000000000000\n",
      "Data Offset + Reserved + Flags: #b00000000\n",
      "Flags: #b00010010\n",
      "Window Size: #b0000000000000000\n",
      "Checksum: #b0000000000000000\n",
      "Urgent Pointer: #b0000000000000000\n",
      "TCP Packet Model:\n",
      "Source Port: #b0000000000000000\n",
      "Destination Port: #b0000000110111011\n",
      "Sequence Number: #b00000000000000000000000000000000\n",
      "Acknowledgment Number: #b00000000000000000000000000000000\n",
      "Data Offset + Reserved + Flags: #b00000000\n",
      "Flags: #b00010001\n",
      "Window Size: #b0000000000000000\n",
      "Checksum: #b0000000000000000\n",
      "Urgent Pointer: #b0000000000000000\n"
     ]
    }
   ],
   "source": [
    "from cvc5 import Solver, Kind\n",
    "\n",
    "def check_tcp_packet(flags_val, dest_port_val):\n",
    "    # Initialize cvc5 solver\n",
    "    solver = Solver()\n",
    "    solver.setOption(\"produce-models\", \"true\")\n",
    "    solver.setLogic(\"QF_BV\")  # Quantifier-free bit-vector logic\n",
    "\n",
    "    # Define TCP Header Fields as symbolic bit-vectors\n",
    "    source_port = solver.mkConst(solver.mkBitVectorSort(16), \"source_port\")\n",
    "    dest_port = solver.mkConst(solver.mkBitVectorSort(16), \"dest_port\")\n",
    "    sequence_number = solver.mkConst(solver.mkBitVectorSort(32), \"sequence_number\")\n",
    "    ack_number = solver.mkConst(solver.mkBitVectorSort(32), \"ack_number\")\n",
    "    data_offset_reserved_flags = solver.mkConst(solver.mkBitVectorSort(8), \"data_offset_reserved_flags\")\n",
    "    flags = solver.mkConst(solver.mkBitVectorSort(8), \"flags\")\n",
    "    window_size = solver.mkConst(solver.mkBitVectorSort(16), \"window_size\")\n",
    "    checksum = solver.mkConst(solver.mkBitVectorSort(16), \"checksum\")\n",
    "    urgent_pointer = solver.mkConst(solver.mkBitVectorSort(16), \"urgent_pointer\")\n",
    "\n",
    "    # Define flag bit values\n",
    "    URG_FLAG = solver.mkBitVector(8, 0x20)  # URG flag (0b00100000)\n",
    "    ACK_FLAG = solver.mkBitVector(8, 0x10)  # ACK flag (0b00010000)\n",
    "    PSH_FLAG = solver.mkBitVector(8, 0x08)  # PSH flag (0b00001000)\n",
    "    RST_FLAG = solver.mkBitVector(8, 0x04)  # RST flag (0b00000100)\n",
    "    SYN_FLAG = solver.mkBitVector(8, 0x02)  # SYN flag (0b00000010)\n",
    "    FIN_FLAG = solver.mkBitVector(8, 0x01)  # FIN flag (0b00000001)\n",
    "\n",
    "    # Create the specified flag combination dynamically\n",
    "    combined_flags = solver.mkBitVector(8, flags_val)\n",
    "\n",
    "    # Add constraints based on function arguments\n",
    "    is_flag_set = solver.mkTerm(Kind.EQUAL, flags, combined_flags)\n",
    "    is_dest_port_correct = solver.mkTerm(Kind.EQUAL, dest_port, solver.mkBitVector(16, dest_port_val))\n",
    "\n",
    "    # Combine constraints\n",
    "    packet_constraints = solver.mkTerm(Kind.AND, is_flag_set, is_dest_port_correct)\n",
    "    solver.assertFormula(packet_constraints)\n",
    "\n",
    "    # Check if there's a valid assignment (satisfiable model) for the constraints\n",
    "    if solver.checkSat().isSat():\n",
    "        # Get and display values for each field\n",
    "        model_source_port = solver.getValue(source_port)\n",
    "        model_dest_port = solver.getValue(dest_port)\n",
    "        model_sequence_number = solver.getValue(sequence_number)\n",
    "        model_ack_number = solver.getValue(ack_number)\n",
    "        model_data_offset_reserved_flags = solver.getValue(data_offset_reserved_flags)\n",
    "        model_flags = solver.getValue(flags)\n",
    "        model_window_size = solver.getValue(window_size)\n",
    "        model_checksum = solver.getValue(checksum)\n",
    "        model_urgent_pointer = solver.getValue(urgent_pointer)\n",
    "\n",
    "        print(\"TCP Packet Model:\")\n",
    "        print(\"Source Port:\", str(model_source_port))\n",
    "        print(\"Destination Port:\", str(model_dest_port))\n",
    "        print(\"Sequence Number:\", str(model_sequence_number))\n",
    "        print(\"Acknowledgment Number:\", str(model_ack_number))\n",
    "        print(\"Data Offset + Reserved + Flags:\", str(model_data_offset_reserved_flags))\n",
    "        print(\"Flags:\", str(model_flags))\n",
    "        print(\"Window Size:\", str(model_window_size))\n",
    "        print(\"Checksum:\", str(model_checksum))\n",
    "        print(\"Urgent Pointer:\", str(model_urgent_pointer))\n",
    "    else:\n",
    "        print(\"No satisfiable solution found for the specified TCP packet constraints.\")\n",
    "\n",
    "# Example usage\n",
    "# SYN-ACK packet to port 80: SYN flag (0x02) + ACK flag (0x10) = 0x12\n",
    "check_tcp_packet(flags_val=0x12, dest_port_val=80)\n",
    "\n",
    "# FIN-ACK packet to port 443: FIN flag (0x01) + ACK flag (0x10) = 0x11\n",
    "check_tcp_packet(flags_val=0x11, dest_port_val=443)\n"
   ],
   "metadata": {
    "collapsed": false,
    "ExecuteTime": {
     "start_time": "2024-11-10T17:20:04.583822Z",
     "end_time": "2024-11-10T17:20:04.585452Z"
    }
   }
  },
  {
   "cell_type": "code",
   "execution_count": null,
   "outputs": [],
   "source": [],
   "metadata": {
    "collapsed": false
   }
  }
 ],
 "metadata": {
  "kernelspec": {
   "display_name": "Python 3",
   "language": "python",
   "name": "python3"
  },
  "language_info": {
   "codemirror_mode": {
    "name": "ipython",
    "version": 2
   },
   "file_extension": ".py",
   "mimetype": "text/x-python",
   "name": "python",
   "nbconvert_exporter": "python",
   "pygments_lexer": "ipython2",
   "version": "2.7.6"
  }
 },
 "nbformat": 4,
 "nbformat_minor": 0
}
