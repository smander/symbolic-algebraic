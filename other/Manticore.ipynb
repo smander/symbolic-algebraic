{
 "cells": [
  {
   "cell_type": "code",
   "execution_count": 11,
   "outputs": [
    {
     "name": "stdout",
     "output_type": "stream",
     "text": [
      "Requirement already satisfied: manticore in /Users/smander/projects/PHD/DNN/venv/lib/python3.9/site-packages (0.3.7)\r\n",
      "Requirement already satisfied: prettytable in /Users/smander/projects/PHD/DNN/venv/lib/python3.9/site-packages (3.12.0)\r\n",
      "Requirement already satisfied: wcwidth in /Users/smander/projects/PHD/DNN/venv/lib/python3.9/site-packages (from prettytable) (0.2.13)\r\n",
      "Collecting sha3\r\n",
      "  Downloading sha3-0.2.1.tar.gz (616 kB)\r\n",
      "\u001B[2K     \u001B[90m━━━━━━━━━━━━━━━━━━━━━━━━━━━━━━━━━━━━━━━\u001B[0m \u001B[32m616.9/616.9 kB\u001B[0m \u001B[31m4.4 MB/s\u001B[0m eta \u001B[36m0:00:00\u001B[0m\r\n",
      "\u001B[?25h  Preparing metadata (setup.py) ... \u001B[?25ldone\r\n",
      "\u001B[?25hBuilding wheels for collected packages: sha3\r\n",
      "  Building wheel for sha3 (setup.py) ... \u001B[?25lerror\r\n",
      "  \u001B[1;31merror\u001B[0m: \u001B[1msubprocess-exited-with-error\u001B[0m\r\n",
      "  \r\n",
      "  \u001B[31m×\u001B[0m \u001B[32mpython setup.py bdist_wheel\u001B[0m did not run successfully.\r\n",
      "  \u001B[31m│\u001B[0m exit code: \u001B[1;36m1\u001B[0m\r\n",
      "  \u001B[31m╰─>\u001B[0m \u001B[31m[2 lines of output]\u001B[0m\r\n",
      "  \u001B[31m   \u001B[0m clang: error: invalid version number in 'MACOSX_DEPLOYMENT_TARGET=12'\r\n",
      "  \u001B[31m   \u001B[0m error: command '/usr/bin/clang' failed with exit code 1\r\n",
      "  \u001B[31m   \u001B[0m \u001B[31m[end of output]\u001B[0m\r\n",
      "  \r\n",
      "  \u001B[1;35mnote\u001B[0m: This error originates from a subprocess, and is likely not a problem with pip.\r\n",
      "\u001B[31m  ERROR: Failed building wheel for sha3\u001B[0m\u001B[31m\r\n",
      "\u001B[0m\u001B[?25h  Running setup.py clean for sha3\r\n",
      "Failed to build sha3\r\n",
      "\u001B[31mERROR: ERROR: Failed to build installable wheels for some pyproject.toml based projects (sha3)\u001B[0m\u001B[31m\r\n",
      "\u001B[0m"
     ]
    }
   ],
   "source": [
    "!pip install manticore --no-deps\n",
    "!pip install prettytable\n",
    "!pip install sha3\n"
   ],
   "metadata": {
    "collapsed": false,
    "ExecuteTime": {
     "start_time": "2024-11-10T14:31:23.279647Z",
     "end_time": "2024-11-10T14:31:28.797739Z"
    }
   }
  },
  {
   "cell_type": "code",
   "execution_count": 10,
   "outputs": [
    {
     "ename": "ModuleNotFoundError",
     "evalue": "No module named 'sha3'",
     "output_type": "error",
     "traceback": [
      "\u001B[0;31m---------------------------------------------------------------------------\u001B[0m",
      "\u001B[0;31mModuleNotFoundError\u001B[0m                       Traceback (most recent call last)",
      "Cell \u001B[0;32mIn[10], line 1\u001B[0m\n\u001B[0;32m----> 1\u001B[0m \u001B[38;5;28;01mfrom\u001B[39;00m \u001B[38;5;21;01mmanticore\u001B[39;00m \u001B[38;5;28;01mimport\u001B[39;00m Manticore\n\u001B[1;32m      3\u001B[0m \u001B[38;5;66;03m# Path to the binary (can be a simple placeholder or mock binary)\u001B[39;00m\n\u001B[1;32m      4\u001B[0m binary_path \u001B[38;5;241m=\u001B[39m \u001B[38;5;124m'\u001B[39m\u001B[38;5;124m/path/to/some/binary\u001B[39m\u001B[38;5;124m'\u001B[39m\n",
      "File \u001B[0;32m~/projects/PHD/DNN/venv/lib/python3.9/site-packages/manticore/__init__.py:10\u001B[0m\n\u001B[1;32m      8\u001B[0m \u001B[38;5;28;01mfrom\u001B[39;00m \u001B[38;5;21;01m.\u001B[39;00m\u001B[38;5;21;01mutils\u001B[39;00m\u001B[38;5;21;01m.\u001B[39;00m\u001B[38;5;21;01mlog\u001B[39;00m \u001B[38;5;28;01mimport\u001B[39;00m set_verbosity\n\u001B[1;32m      9\u001B[0m \u001B[38;5;28;01mfrom\u001B[39;00m \u001B[38;5;21;01m.\u001B[39;00m\u001B[38;5;21;01mcore\u001B[39;00m\u001B[38;5;21;01m.\u001B[39;00m\u001B[38;5;21;01msmtlib\u001B[39;00m \u001B[38;5;28;01mimport\u001B[39;00m issymbolic, istainted\n\u001B[0;32m---> 10\u001B[0m \u001B[38;5;28;01mfrom\u001B[39;00m \u001B[38;5;21;01m.\u001B[39;00m\u001B[38;5;21;01methereum\u001B[39;00m\u001B[38;5;21;01m.\u001B[39;00m\u001B[38;5;21;01mmanticore\u001B[39;00m \u001B[38;5;28;01mimport\u001B[39;00m ManticoreEVM\n\u001B[1;32m     11\u001B[0m \u001B[38;5;28;01mfrom\u001B[39;00m \u001B[38;5;21;01m.\u001B[39;00m\u001B[38;5;21;01mcore\u001B[39;00m\u001B[38;5;21;01m.\u001B[39;00m\u001B[38;5;21;01mplugin\u001B[39;00m \u001B[38;5;28;01mimport\u001B[39;00m Plugin\n\u001B[1;32m     12\u001B[0m \u001B[38;5;28;01mfrom\u001B[39;00m \u001B[38;5;21;01m.\u001B[39;00m\u001B[38;5;21;01mexceptions\u001B[39;00m \u001B[38;5;28;01mimport\u001B[39;00m ManticoreError\n",
      "File \u001B[0;32m~/projects/PHD/DNN/venv/lib/python3.9/site-packages/manticore/ethereum/__init__.py:2\u001B[0m\n\u001B[1;32m      1\u001B[0m \u001B[38;5;66;03m# Exports (for `from manticore.ethereum import ...`)\u001B[39;00m\n\u001B[0;32m----> 2\u001B[0m \u001B[38;5;28;01mfrom\u001B[39;00m \u001B[38;5;21;01m.\u001B[39;00m\u001B[38;5;21;01mabi\u001B[39;00m \u001B[38;5;28;01mimport\u001B[39;00m ABI\n\u001B[1;32m      3\u001B[0m \u001B[38;5;28;01mfrom\u001B[39;00m \u001B[38;5;21;01m.\u001B[39;00m\u001B[38;5;21;01mmanticore\u001B[39;00m \u001B[38;5;28;01mimport\u001B[39;00m ManticoreEVM, config\n\u001B[1;32m      4\u001B[0m \u001B[38;5;28;01mfrom\u001B[39;00m \u001B[38;5;21;01m.\u001B[39;00m\u001B[38;5;21;01mstate\u001B[39;00m \u001B[38;5;28;01mimport\u001B[39;00m State\n",
      "File \u001B[0;32m~/projects/PHD/DNN/venv/lib/python3.9/site-packages/manticore/ethereum/abi.py:6\u001B[0m\n\u001B[1;32m      3\u001B[0m \u001B[38;5;28;01mimport\u001B[39;00m \u001B[38;5;21;01muuid\u001B[39;00m\n\u001B[1;32m      5\u001B[0m \u001B[38;5;28;01mimport\u001B[39;00m \u001B[38;5;21;01mre\u001B[39;00m\n\u001B[0;32m----> 6\u001B[0m \u001B[38;5;28;01mimport\u001B[39;00m \u001B[38;5;21;01msha3\u001B[39;00m\n\u001B[1;32m      8\u001B[0m \u001B[38;5;28;01mfrom\u001B[39;00m \u001B[38;5;21;01m.\u001B[39;00m \u001B[38;5;28;01mimport\u001B[39;00m abitypes\n\u001B[1;32m      9\u001B[0m \u001B[38;5;28;01mfrom\u001B[39;00m \u001B[38;5;21;01m.\u001B[39;00m\u001B[38;5;21;01m.\u001B[39;00m\u001B[38;5;21;01mcore\u001B[39;00m\u001B[38;5;21;01m.\u001B[39;00m\u001B[38;5;21;01msmtlib\u001B[39;00m \u001B[38;5;28;01mimport\u001B[39;00m (\n\u001B[1;32m     10\u001B[0m     Array,\n\u001B[1;32m     11\u001B[0m     Operators,\n\u001B[0;32m   (...)\u001B[0m\n\u001B[1;32m     16\u001B[0m     issymbolic,\n\u001B[1;32m     17\u001B[0m )\n",
      "\u001B[0;31mModuleNotFoundError\u001B[0m: No module named 'sha3'"
     ]
    }
   ],
   "source": [
    "from manticore import Manticore\n",
    "\n",
    "# Path to the binary (can be a simple placeholder or mock binary)\n",
    "binary_path = '/path/to/some/binary'\n",
    "m = Manticore(binary_path)\n",
    "\n",
    "# Define constraints on symbolic bytes in Manticore\n",
    "@m.hook(0x400000)  # Example address; this is just a placeholder in Manticore\n",
    "def entry_hook(state):\n",
    "    # Create four symbolic bytes\n",
    "    byte1 = state.new_symbolic_value(8, name=\"byte1\")\n",
    "    byte2 = state.new_symbolic_value(8, name=\"byte2\")\n",
    "    byte3 = state.new_symbolic_value(8, name=\"byte3\")\n",
    "    byte4 = state.new_symbolic_value(8, name=\"byte4\")\n",
    "\n",
    "    # List of symbolic bytes for easier handling\n",
    "    symbolic_bytes = [byte1, byte2, byte3, byte4]\n",
    "\n",
    "    # Add constraints on each byte and their sum\n",
    "    state.constrain(byte1 + byte2 + byte3 + byte4 == 240)  # Sum constraint\n",
    "    for byte in symbolic_bytes:\n",
    "        state.constrain(byte >= 0x20)  # Byte >= 0x20 (printable ASCII range)\n",
    "        state.constrain(byte <= 0x7e)  # Byte <= 0x7e\n",
    "\n",
    "# Run Manticore and collect any solutions\n",
    "m.run()\n",
    "\n",
    "# Check results (Manticore outputs results in a dedicated workspace directory)\n",
    "print(\"Check Manticore's output directory for solutions in the generated 'workspace' folder.\")\n"
   ],
   "metadata": {
    "collapsed": false
   }
  },
  {
   "cell_type": "code",
   "execution_count": null,
   "outputs": [],
   "source": [],
   "metadata": {
    "collapsed": false
   }
  }
 ],
 "metadata": {
  "kernelspec": {
   "display_name": "Python 3",
   "language": "python",
   "name": "python3"
  },
  "language_info": {
   "codemirror_mode": {
    "name": "ipython",
    "version": 2
   },
   "file_extension": ".py",
   "mimetype": "text/x-python",
   "name": "python",
   "nbconvert_exporter": "python",
   "pygments_lexer": "ipython2",
   "version": "2.7.6"
  }
 },
 "nbformat": 4,
 "nbformat_minor": 0
}
