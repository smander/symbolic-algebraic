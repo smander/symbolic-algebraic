{
 "cells": [
  {
   "cell_type": "code",
   "execution_count": 11,
   "metadata": {
    "collapsed": true,
    "ExecuteTime": {
     "start_time": "2024-11-09T20:40:20.032591Z",
     "end_time": "2024-11-09T20:40:21.597630Z"
    }
   },
   "outputs": [
    {
     "name": "stdout",
     "output_type": "stream",
     "text": [
      "Requirement already satisfied: z3-solver in /Users/smander/projects/PHD/DNN/venv/lib/python3.9/site-packages (4.10.2.0)\r\n"
     ]
    }
   ],
   "source": [
    "!pip install z3-solver\n"
   ]
  },
  {
   "cell_type": "code",
   "execution_count": 14,
   "outputs": [
    {
     "ename": "ImportError",
     "evalue": "cannot import name 'BitVec' from 'z3' (/Users/smander/projects/PHD/DNN/venv/lib/python3.9/site-packages/z3/__init__.py)",
     "output_type": "error",
     "traceback": [
      "\u001B[0;31m---------------------------------------------------------------------------\u001B[0m",
      "\u001B[0;31mImportError\u001B[0m                               Traceback (most recent call last)",
      "Cell \u001B[0;32mIn[14], line 1\u001B[0m\n\u001B[0;32m----> 1\u001B[0m \u001B[38;5;28;01mfrom\u001B[39;00m \u001B[38;5;21;01mz3\u001B[39;00m \u001B[38;5;28;01mimport\u001B[39;00m BitVec, Solver, And, Or, Not\n\u001B[1;32m      3\u001B[0m \u001B[38;5;66;03m# Define 8-bit symbolic bit-vectors\u001B[39;00m\n\u001B[1;32m      4\u001B[0m x \u001B[38;5;241m=\u001B[39m BitVec(\u001B[38;5;124m'\u001B[39m\u001B[38;5;124mx\u001B[39m\u001B[38;5;124m'\u001B[39m, \u001B[38;5;241m8\u001B[39m)  \u001B[38;5;66;03m# 8-bit integer\u001B[39;00m\n",
      "\u001B[0;31mImportError\u001B[0m: cannot import name 'BitVec' from 'z3' (/Users/smander/projects/PHD/DNN/venv/lib/python3.9/site-packages/z3/__init__.py)"
     ]
    }
   ],
   "source": [
    "\n",
    "from z3 import BitVec, Solver, And, Or, Not\n",
    "\n",
    "# Define 8-bit symbolic bit-vectors\n",
    "x = BitVec('x', 8)  # 8-bit integer\n",
    "y = BitVec('y', 8)  # Another 8-bit integer\n",
    "\n",
    "# Create a solver instance\n",
    "solver = Solver()\n",
    "\n",
    "# Add bitwise constraints\n",
    "solver.add(x & y == 0x3)       # Bitwise AND constraint\n",
    "solver.add(x | y == 0x7)       # Bitwise OR constraint\n",
    "solver.add(x ^ y == 0x4)       # Bitwise XOR constraint\n",
    "solver.add(Not(x == 0))        # Ensure x is not zero\n",
    "\n",
    "# Add additional constraints if needed\n",
    "solver.add(x << 1 == y)        # Bitwise left shift of x by 1 should equal y\n",
    "\n",
    "# Check satisfiability\n",
    "if solver.check() == z3.sat:\n",
    "    model = solver.model()\n",
    "    print(\"Solution found:\")\n",
    "    print(f\"x = {model[x].as_long():02x}\")\n",
    "    print(f\"y = {model[y].as_long():02x}\")\n",
    "else:\n",
    "    print(\"No solution satisfies the constraints.\")\n"
   ],
   "metadata": {
    "collapsed": false
   }
  },
  {
   "cell_type": "code",
   "execution_count": 21,
   "outputs": [
    {
     "name": "stdout",
     "output_type": "stream",
     "text": [
      "SYN-ACK Packet Model:\n",
      "Source Port: #b0000000000000000\n",
      "Destination Port: #b0000000001010000\n",
      "Flags: #b00010010\n",
      "FIN-ACK Packet Model:\n",
      "Source Port: #b0000000000000000\n",
      "Destination Port: #b0000000001010000\n",
      "Flags: #b00010001\n"
     ]
    }
   ],
   "source": [
    "from cvc5 import Solver, Kind\n",
    "\n",
    "# Initialize cvc5 solver\n",
    "solver = Solver()\n",
    "solver.setOption(\"produce-models\", \"true\")\n",
    "solver.setLogic(\"QF_BV\")  # Quantifier-free bit-vector logic for fixed-width fields\n",
    "\n",
    "# Define TCP Header Fields as symbolic bit-vectors\n",
    "# 16-bit source port, 16-bit destination port, 8-bit flags\n",
    "source_port = solver.mkConst(solver.mkBitVectorSort(16), \"source_port\")\n",
    "dest_port = solver.mkConst(solver.mkBitVectorSort(16), \"dest_port\")\n",
    "flags = solver.mkConst(solver.mkBitVectorSort(8), \"flags\")\n",
    "\n",
    "# Define flag bit values\n",
    "URG_FLAG = solver.mkBitVector(8, 0x20)  # URG flag (0b00100000)\n",
    "ACK_FLAG = solver.mkBitVector(8, 0x10)  # ACK flag (0b00010000)\n",
    "PSH_FLAG = solver.mkBitVector(8, 0x08)  # PSH flag (0b00001000)\n",
    "RST_FLAG = solver.mkBitVector(8, 0x04)  # RST flag (0b00000100)\n",
    "SYN_FLAG = solver.mkBitVector(8, 0x02)  # SYN flag (0b00000010)\n",
    "FIN_FLAG = solver.mkBitVector(8, 0x01)  # FIN flag (0b00000001)\n",
    "\n",
    "# Example combinations of flags\n",
    "# SYN-ACK Packet (e.g., for connection establishment)\n",
    "syn_ack_packet = solver.mkTerm(Kind.EQUAL, flags, solver.mkBitVector(8, 0x12))  # 0b00010010\n",
    "\n",
    "# FIN-ACK Packet (e.g., for connection termination)\n",
    "fin_ack_packet = solver.mkTerm(Kind.EQUAL, flags, solver.mkBitVector(8, 0x11))  # 0b00010001\n",
    "\n",
    "# Add constraints to the solver\n",
    "# Here, we can try different scenarios by asserting different flag combinations.\n",
    "# Let's first test for a SYN-ACK packet to destination port 80\n",
    "is_dest_port_80 = solver.mkTerm(Kind.EQUAL, dest_port, solver.mkBitVector(16, 80))\n",
    "syn_ack_constraints = solver.mkTerm(Kind.AND, syn_ack_packet, is_dest_port_80)\n",
    "\n",
    "# Assert the constraints for a SYN-ACK packet\n",
    "solver.assertFormula(syn_ack_constraints)\n",
    "\n",
    "# Check if there's a valid assignment (satisfiable model) for the SYN-ACK constraints\n",
    "if solver.checkSat().isSat():\n",
    "    # Get model and display values for source_port, dest_port, and flags\n",
    "    model_source_port = solver.getValue(source_port)\n",
    "    model_dest_port = solver.getValue(dest_port)\n",
    "    model_flags = solver.getValue(flags)\n",
    "\n",
    "    print(\"SYN-ACK Packet Model:\")\n",
    "    print(\"Source Port:\", str(model_source_port))\n",
    "    print(\"Destination Port:\", str(model_dest_port))\n",
    "    print(\"Flags:\", str(model_flags))\n",
    "else:\n",
    "    print(\"No satisfiable solution found for the SYN-ACK constraints.\")\n",
    "\n",
    "# Reset solver for another check\n",
    "solver.resetAssertions()\n",
    "\n",
    "# Assert the constraints for a FIN-ACK packet to the same destination port 80\n",
    "fin_ack_constraints = solver.mkTerm(Kind.AND, fin_ack_packet, is_dest_port_80)\n",
    "solver.assertFormula(fin_ack_constraints)\n",
    "\n",
    "# Check if there's a valid assignment (satisfiable model) for the FIN-ACK constraints\n",
    "if solver.checkSat().isSat():\n",
    "    # Get model and display values for source_port, dest_port, and flags\n",
    "    model_source_port = solver.getValue(source_port)\n",
    "    model_dest_port = solver.getValue(dest_port)\n",
    "    model_flags = solver.getValue(flags)\n",
    "\n",
    "    print(\"FIN-ACK Packet Model:\")\n",
    "    print(\"Source Port:\", str(model_source_port))\n",
    "    print(\"Destination Port:\", str(model_dest_port))\n",
    "    print(\"Flags:\", str(model_flags))\n",
    "else:\n",
    "    print(\"No satisfiable solution found for the FIN-ACK constraints.\")\n"
   ],
   "metadata": {
    "collapsed": false,
    "ExecuteTime": {
     "start_time": "2024-11-10T00:20:04.187494Z",
     "end_time": "2024-11-10T00:20:04.195562Z"
    }
   }
  },
  {
   "cell_type": "code",
   "execution_count": 13,
   "outputs": [
    {
     "ename": "ImportError",
     "evalue": "cannot import name 'Extract' from 'z3' (/Users/smander/projects/PHD/DNN/venv/lib/python3.9/site-packages/z3/__init__.py)",
     "output_type": "error",
     "traceback": [
      "\u001B[0;31m---------------------------------------------------------------------------\u001B[0m",
      "\u001B[0;31mImportError\u001B[0m                               Traceback (most recent call last)",
      "Cell \u001B[0;32mIn[13], line 1\u001B[0m\n\u001B[0;32m----> 1\u001B[0m \u001B[38;5;28;01mfrom\u001B[39;00m \u001B[38;5;21;01mz3\u001B[39;00m \u001B[38;5;28;01mimport\u001B[39;00m Extract\n\u001B[1;32m      3\u001B[0m \u001B[38;5;66;03m# Extract the lower 4 bits of an 8-bit bit-vector\u001B[39;00m\n\u001B[1;32m      4\u001B[0m low_bits \u001B[38;5;241m=\u001B[39m Extract(\u001B[38;5;241m3\u001B[39m, \u001B[38;5;241m0\u001B[39m, x)  \u001B[38;5;66;03m# Extract bits 3 through 0 of x\u001B[39;00m\n",
      "\u001B[0;31mImportError\u001B[0m: cannot import name 'Extract' from 'z3' (/Users/smander/projects/PHD/DNN/venv/lib/python3.9/site-packages/z3/__init__.py)"
     ]
    }
   ],
   "source": [
    "from z3 import Extract\n",
    "\n",
    "# Extract the lower 4 bits of an 8-bit bit-vector\n",
    "low_bits = Extract(3, 0, x)  # Extract bits 3 through 0 of x\n",
    "solver.add(low_bits == 0b0011)\n"
   ],
   "metadata": {
    "collapsed": false
   }
  },
  {
   "cell_type": "code",
   "execution_count": null,
   "outputs": [],
   "source": [
    "import angr\n",
    "import claripy\n",
    "\n",
    "# Define a binary to analyze\n",
    "binary_path = '/path/to/binary'\n",
    "project = angr.Project(binary_path, auto_load_libs=False)\n",
    "\n",
    "# Define symbolic bytes as input\n",
    "symbolic_input = claripy.BVS('input', 8 * 4)  # 4 bytes\n",
    "\n",
    "# Run symbolic execution\n",
    "state = project.factory.full_init_state(stdin=symbolic_input)\n",
    "simgr = project.factory.simgr(state)\n",
    "simgr.explore(find=0x400123)  # Example address to find\n",
    "\n",
    "# Check for solutions\n",
    "if simgr.found:\n",
    "    solution = simgr.found[0].solver.eval(symbolic_input, cast_to=bytes)\n",
    "    print(f'Solution found: {solution}')\n"
   ],
   "metadata": {
    "collapsed": false
   }
  },
  {
   "cell_type": "code",
   "execution_count": null,
   "outputs": [],
   "source": [
    "##ПОшукати байтови SOLVER - bitwise SOLVER byteWISE"
   ],
   "metadata": {
    "collapsed": false
   }
  },
  {
   "cell_type": "code",
   "execution_count": 7,
   "outputs": [
    {
     "name": "stdout",
     "output_type": "stream",
     "text": [
      "Temperature formula based on heating/cooling: H*t + T0\n",
      "Generated temperature time series: [(0, 20.0), (1, 21.5), (2, 23.0), (3, 24.5), (4, 26.0), (5, 27.5), (6, 29.0), (7, 30.5), (8, 32.0), (9, 33.5)]\n"
     ]
    }
   ],
   "source": [
    "from sympy import symbols, Eq, solve\n",
    "\n",
    "# Define variables\n",
    "T = symbols('T')  # Temperature at a given time\n",
    "T0 = symbols('T0')  # Initial temperature\n",
    "H = symbols('H')  # Heating or cooling factor\n",
    "t = symbols('t')  # Time\n",
    "\n",
    "# Define temperature equation: T = T0 + H * t\n",
    "temperature_eq = Eq(T, T0 + H * t)\n",
    "\n",
    "# Solve for T in terms of T0, H, and t\n",
    "temperature_formula = solve(temperature_eq, T)[0]\n",
    "print(f\"Temperature formula based on heating/cooling: {temperature_formula}\")\n",
    "\n",
    "# Generate a sequence of temperatures based on initial conditions for LSTM input\n",
    "initial_temp = 20  # Starting temperature\n",
    "heating_factor = 1.5  # Heating factor per time unit\n",
    "time_series = [(i, float(temperature_formula.subs({T0: initial_temp, H: heating_factor, t: i}))) for i in range(10)]\n",
    "print(\"Generated temperature time series:\", time_series)\n"
   ],
   "metadata": {
    "collapsed": false,
    "ExecuteTime": {
     "start_time": "2024-11-09T20:33:51.268674Z",
     "end_time": "2024-11-09T20:33:52.496584Z"
    }
   }
  },
  {
   "cell_type": "code",
   "execution_count": null,
   "outputs": [],
   "source": [],
   "metadata": {
    "collapsed": false
   }
  },
  {
   "cell_type": "code",
   "execution_count": 5,
   "outputs": [
    {
     "ename": "ImportError",
     "evalue": "dlopen(/Users/smander/projects/PHD/DNN/venv/lib/python3.9/site-packages/tensorflow/python/platform/_pywrap_cpu_feature_guard.so, 0x0002): Library not loaded: @rpath/libtensorflow_cc.2.dylib\n  Referenced from: <327AFC74-CE12-3903-8CAA-371285A02F18> /Users/smander/projects/PHD/DNN/venv/lib/python3.9/site-packages/tensorflow/python/_pywrap_tensorflow_internal.so\n  Reason: tried: '/Users/smander/projects/PHD/DNN/venv/lib/python3.9/site-packages/tensorflow/python/../../_solib_darwin_x86_64/libtensorflow_cc.2.dylib' (no such file), '/Users/smander/projects/PHD/DNN/venv/lib/python3.9/site-packages/tensorflow/python/_pywrap_tensorflow_internal.so.runfiles/org_tensorflow/_solib_darwin_x86_64/libtensorflow_cc.2.dylib' (no such file), '/Users/smander/projects/PHD/DNN/venv/lib/python3.9/site-packages/tensorflow/python/../../_solib_darwin_x86_64/_U_S_Stensorflow_Spython_C_Upywrap_Utensorflow_Uinternal.so_Ucclib___Utensorflow/libtensorflow_cc.2.dylib' (no such file), '/Users/smander/projects/PHD/DNN/venv/lib/python3.9/site-packages/tensorflow/python/_pywrap_tensorflow_internal.so.runfiles/org_tensorflow/_solib_darwin_x86_64/_U_S_Stensorflow_Spython_C_Upywrap_Utensorflow_Uinternal.so_Ucclib___Utensorflow/libtensorflow_cc.2.dylib' (no such file), '/Users/smander/projects/PHD/DNN/venv/lib/python3.9/site-packages/tensorflow/python/libtensorflow_cc.2.dylib' (no such file), '/Users/smander/projects/PHD/DNN/venv/lib/python3.9/site-packages/tensorflow/python/../libtensorflow_cc.2.dylib' (no such file), '/Users/smander/projects/PHD/DNN/venv/lib/python3.9/site-packages/tensorflow/python/platform/../../../_solib_darwin_x86_64/_U_S_Stensorflow_Clibtensorflow_Uframework_Uimport_Ulib___Utensorflow/libtensorflow_cc.2.dylib' (no such file), '/Users/smander/projects/PHD/DNN/venv/lib/python3.9/site-packages/tensorflow/python/platform/_pywrap_cpu_feature_guard.so.runfiles/org_tensorflow/_solib_darwin_x86_64/_U_S_Stensorflow_Clibtensorflow_Uframework_Uimport_Ulib___Utensorflow/libtensorflow_cc.2.dylib' (no such file), '/Users/smander/projects/PHD/DNN/venv/lib/python3.9/site-packages/tensorflow/python/platform/../../../_solib_darwin_x86_64/_U_S_Stensorflow_Spython_C_Upywrap_Utensorflow_Uinternal_Umacos___Utensorflow_Spython/libtensorflow_cc.2.dylib' (no such file), '/Users/smander/projects/PHD/DNN/venv/lib/python3.9/site-packages/tensorflow/python/platform/_pywrap_cpu_feature_guard.so.runfiles/org_tensorflow/_solib_darwin_x86_64/_U_S_Stensorflow_Spython_C_Upywrap_Utensorflow_Uinternal_Umacos___Utensorflow_Spython/libtensorflow_cc.2.dylib' (no such file), '/Users/smander/projects/PHD/DNN/venv/lib/python3.9/site-packages/tensorflow/python/platform/libtensorflow_cc.2.dylib' (no such file), '/Users/smander/projects/PHD/DNN/venv/lib/python3.9/site-packages/tensorflow/python/platform/../libtensorflow_cc.2.dylib' (no such file), '/Users/smander/projects/PHD/DNN/venv/lib/python3.9/site-packages/tensorflow/python/platform/../../libtensorflow_cc.2.dylib' (no such file), '/Users/smander/projects/PHD/DNN/venv/lib/python3.9/site-packages/tensorflow/python/platform/../../../_solib_darwin_x86_64/_U_S_Stensorflow_Clibtensorflow_Uframework_Uimport_Ulib___Utensorflow/libtensorflow_cc.2.dylib' (no such file), '/Users/smander/projects/PHD/DNN/venv/lib/python3.9/site-packages/tensorflow/python/platform/_pywrap_cpu_feature_guard.so.runfiles/org_tensorflow/_solib_darwin_x86_64/_U_S_Stensorflow_Clibtensorflow_Uframework_Uimport_Ulib___Utensorflow/libtensorflow_cc.2.dylib' (no such file), '/Users/smander/projects/PHD/DNN/venv/lib/python3.9/site-packages/tensorflow/python/platform/../../../_solib_darwin_x86_64/_U_S_Stensorflow_Spython_C_Upywrap_Utensorflow_Uinternal_Umacos___Utensorflow_Spython/libtensorflow_cc.2.dylib' (no such file), '/Users/smander/projects/PHD/DNN/venv/lib/python3.9/site-packages/tensorflow/python/platform/_pywrap_cpu_feature_guard.so.runfiles/org_tensorflow/_solib_darwin_x86_64/_U_S_Stensorflow_Spython_C_Upywrap_Utensorflow_Uinternal_Umacos___Utensorflow_Spython/libtensorflow_cc.2.dylib' (no such file), '/Users/smander/projects/PHD/DNN/venv/lib/python3.9/site-packages/tensorflow/python/platform/libtensorflow_cc.2.dylib' (no such file), '/Users/smander/projects/PHD/DNN/venv/lib/python3.9/site-packages/tensorflow/python/platform/../libtensorflow_cc.2.dylib' (no such file), '/Users/smander/projects/PHD/DNN/venv/lib/python3.9/site-packages/tensorflow/python/platform/../../libtensorflow_cc.2.dylib' (no such file), '/usr/local/lib/libtensorflow_cc.2.dylib' (no such file), '/System/Volumes/Preboot/Cryptexes/OS/usr/local/lib/libtensorflow_cc.2.dylib' (no such file), '/usr/local/lib/libtensorflow_cc.2.dylib' (no such file), '/System/Volumes/Preboot/Cryptexes/OS/usr/local/lib/libtensorflow_cc.2.dylib' (no such file), '/usr/local/lib/libtensorflow_cc.2.dylib' (no such file), '/usr/lib/libtensorflow_cc.2.dylib' (no such file, not in dyld cache)",
     "output_type": "error",
     "traceback": [
      "\u001B[0;31m---------------------------------------------------------------------------\u001B[0m",
      "\u001B[0;31mImportError\u001B[0m                               Traceback (most recent call last)",
      "Cell \u001B[0;32mIn[5], line 2\u001B[0m\n\u001B[1;32m      1\u001B[0m \u001B[38;5;28;01mimport\u001B[39;00m \u001B[38;5;21;01mnumpy\u001B[39;00m \u001B[38;5;28;01mas\u001B[39;00m \u001B[38;5;21;01mnp\u001B[39;00m\n\u001B[0;32m----> 2\u001B[0m \u001B[38;5;28;01mfrom\u001B[39;00m \u001B[38;5;21;01mtensorflow\u001B[39;00m\u001B[38;5;21;01m.\u001B[39;00m\u001B[38;5;21;01mkeras\u001B[39;00m\u001B[38;5;21;01m.\u001B[39;00m\u001B[38;5;21;01mpreprocessing\u001B[39;00m\u001B[38;5;21;01m.\u001B[39;00m\u001B[38;5;21;01msequence\u001B[39;00m \u001B[38;5;28;01mimport\u001B[39;00m TimeseriesGenerator\n\u001B[1;32m      4\u001B[0m \u001B[38;5;66;03m# Convert time series to numpy array for LSTM\u001B[39;00m\n\u001B[1;32m      5\u001B[0m data \u001B[38;5;241m=\u001B[39m np\u001B[38;5;241m.\u001B[39marray([value \u001B[38;5;28;01mfor\u001B[39;00m _, value \u001B[38;5;129;01min\u001B[39;00m time_series])\n",
      "File \u001B[0;32m~/projects/PHD/DNN/venv/lib/python3.9/site-packages/tensorflow/__init__.py:48\u001B[0m\n\u001B[1;32m     45\u001B[0m \u001B[38;5;28;01mfrom\u001B[39;00m \u001B[38;5;21;01mtensorflow\u001B[39;00m\u001B[38;5;21;01m.\u001B[39;00m\u001B[38;5;21;01mpython\u001B[39;00m \u001B[38;5;28;01mimport\u001B[39;00m tf2 \u001B[38;5;28;01mas\u001B[39;00m _tf2\n\u001B[1;32m     46\u001B[0m _tf2\u001B[38;5;241m.\u001B[39menable()\n\u001B[0;32m---> 48\u001B[0m \u001B[38;5;28;01mfrom\u001B[39;00m \u001B[38;5;21;01mtensorflow\u001B[39;00m\u001B[38;5;21;01m.\u001B[39;00m\u001B[38;5;21;01m_api\u001B[39;00m\u001B[38;5;21;01m.\u001B[39;00m\u001B[38;5;21;01mv2\u001B[39;00m \u001B[38;5;28;01mimport\u001B[39;00m __internal__\n\u001B[1;32m     49\u001B[0m \u001B[38;5;28;01mfrom\u001B[39;00m \u001B[38;5;21;01mtensorflow\u001B[39;00m\u001B[38;5;21;01m.\u001B[39;00m\u001B[38;5;21;01m_api\u001B[39;00m\u001B[38;5;21;01m.\u001B[39;00m\u001B[38;5;21;01mv2\u001B[39;00m \u001B[38;5;28;01mimport\u001B[39;00m __operators__\n\u001B[1;32m     50\u001B[0m \u001B[38;5;28;01mfrom\u001B[39;00m \u001B[38;5;21;01mtensorflow\u001B[39;00m\u001B[38;5;21;01m.\u001B[39;00m\u001B[38;5;21;01m_api\u001B[39;00m\u001B[38;5;21;01m.\u001B[39;00m\u001B[38;5;21;01mv2\u001B[39;00m \u001B[38;5;28;01mimport\u001B[39;00m audio\n",
      "File \u001B[0;32m~/projects/PHD/DNN/venv/lib/python3.9/site-packages/tensorflow/_api/v2/__internal__/__init__.py:8\u001B[0m\n\u001B[1;32m      3\u001B[0m \u001B[38;5;124;03m\"\"\"Public API for tf._api.v2.__internal__ namespace\u001B[39;00m\n\u001B[1;32m      4\u001B[0m \u001B[38;5;124;03m\"\"\"\u001B[39;00m\n\u001B[1;32m      6\u001B[0m \u001B[38;5;28;01mimport\u001B[39;00m \u001B[38;5;21;01msys\u001B[39;00m \u001B[38;5;28;01mas\u001B[39;00m \u001B[38;5;21;01m_sys\u001B[39;00m\n\u001B[0;32m----> 8\u001B[0m \u001B[38;5;28;01mfrom\u001B[39;00m \u001B[38;5;21;01mtensorflow\u001B[39;00m\u001B[38;5;21;01m.\u001B[39;00m\u001B[38;5;21;01m_api\u001B[39;00m\u001B[38;5;21;01m.\u001B[39;00m\u001B[38;5;21;01mv2\u001B[39;00m\u001B[38;5;21;01m.\u001B[39;00m\u001B[38;5;21;01m__internal__\u001B[39;00m \u001B[38;5;28;01mimport\u001B[39;00m autograph\n\u001B[1;32m      9\u001B[0m \u001B[38;5;28;01mfrom\u001B[39;00m \u001B[38;5;21;01mtensorflow\u001B[39;00m\u001B[38;5;21;01m.\u001B[39;00m\u001B[38;5;21;01m_api\u001B[39;00m\u001B[38;5;21;01m.\u001B[39;00m\u001B[38;5;21;01mv2\u001B[39;00m\u001B[38;5;21;01m.\u001B[39;00m\u001B[38;5;21;01m__internal__\u001B[39;00m \u001B[38;5;28;01mimport\u001B[39;00m decorator\n\u001B[1;32m     10\u001B[0m \u001B[38;5;28;01mfrom\u001B[39;00m \u001B[38;5;21;01mtensorflow\u001B[39;00m\u001B[38;5;21;01m.\u001B[39;00m\u001B[38;5;21;01m_api\u001B[39;00m\u001B[38;5;21;01m.\u001B[39;00m\u001B[38;5;21;01mv2\u001B[39;00m\u001B[38;5;21;01m.\u001B[39;00m\u001B[38;5;21;01m__internal__\u001B[39;00m \u001B[38;5;28;01mimport\u001B[39;00m dispatch\n",
      "File \u001B[0;32m~/projects/PHD/DNN/venv/lib/python3.9/site-packages/tensorflow/_api/v2/__internal__/autograph/__init__.py:8\u001B[0m\n\u001B[1;32m      3\u001B[0m \u001B[38;5;124;03m\"\"\"Public API for tf._api.v2.__internal__.autograph namespace\u001B[39;00m\n\u001B[1;32m      4\u001B[0m \u001B[38;5;124;03m\"\"\"\u001B[39;00m\n\u001B[1;32m      6\u001B[0m \u001B[38;5;28;01mimport\u001B[39;00m \u001B[38;5;21;01msys\u001B[39;00m \u001B[38;5;28;01mas\u001B[39;00m \u001B[38;5;21;01m_sys\u001B[39;00m\n\u001B[0;32m----> 8\u001B[0m \u001B[38;5;28;01mfrom\u001B[39;00m \u001B[38;5;21;01mtensorflow\u001B[39;00m\u001B[38;5;21;01m.\u001B[39;00m\u001B[38;5;21;01mpython\u001B[39;00m\u001B[38;5;21;01m.\u001B[39;00m\u001B[38;5;21;01mautograph\u001B[39;00m\u001B[38;5;21;01m.\u001B[39;00m\u001B[38;5;21;01mcore\u001B[39;00m\u001B[38;5;21;01m.\u001B[39;00m\u001B[38;5;21;01mag_ctx\u001B[39;00m \u001B[38;5;28;01mimport\u001B[39;00m control_status_ctx \u001B[38;5;66;03m# line: 34\u001B[39;00m\n\u001B[1;32m      9\u001B[0m \u001B[38;5;28;01mfrom\u001B[39;00m \u001B[38;5;21;01mtensorflow\u001B[39;00m\u001B[38;5;21;01m.\u001B[39;00m\u001B[38;5;21;01mpython\u001B[39;00m\u001B[38;5;21;01m.\u001B[39;00m\u001B[38;5;21;01mautograph\u001B[39;00m\u001B[38;5;21;01m.\u001B[39;00m\u001B[38;5;21;01mimpl\u001B[39;00m\u001B[38;5;21;01m.\u001B[39;00m\u001B[38;5;21;01mapi\u001B[39;00m \u001B[38;5;28;01mimport\u001B[39;00m tf_convert \u001B[38;5;66;03m# line: 493\u001B[39;00m\n",
      "File \u001B[0;32m~/projects/PHD/DNN/venv/lib/python3.9/site-packages/tensorflow/python/autograph/core/ag_ctx.py:21\u001B[0m\n\u001B[1;32m     18\u001B[0m \u001B[38;5;28;01mimport\u001B[39;00m \u001B[38;5;21;01minspect\u001B[39;00m\n\u001B[1;32m     19\u001B[0m \u001B[38;5;28;01mimport\u001B[39;00m \u001B[38;5;21;01mthreading\u001B[39;00m\n\u001B[0;32m---> 21\u001B[0m \u001B[38;5;28;01mfrom\u001B[39;00m \u001B[38;5;21;01mtensorflow\u001B[39;00m\u001B[38;5;21;01m.\u001B[39;00m\u001B[38;5;21;01mpython\u001B[39;00m\u001B[38;5;21;01m.\u001B[39;00m\u001B[38;5;21;01mautograph\u001B[39;00m\u001B[38;5;21;01m.\u001B[39;00m\u001B[38;5;21;01mutils\u001B[39;00m \u001B[38;5;28;01mimport\u001B[39;00m ag_logging\n\u001B[1;32m     22\u001B[0m \u001B[38;5;28;01mfrom\u001B[39;00m \u001B[38;5;21;01mtensorflow\u001B[39;00m\u001B[38;5;21;01m.\u001B[39;00m\u001B[38;5;21;01mpython\u001B[39;00m\u001B[38;5;21;01m.\u001B[39;00m\u001B[38;5;21;01mutil\u001B[39;00m\u001B[38;5;21;01m.\u001B[39;00m\u001B[38;5;21;01mtf_export\u001B[39;00m \u001B[38;5;28;01mimport\u001B[39;00m tf_export\n\u001B[1;32m     25\u001B[0m stacks \u001B[38;5;241m=\u001B[39m threading\u001B[38;5;241m.\u001B[39mlocal()\n",
      "File \u001B[0;32m~/projects/PHD/DNN/venv/lib/python3.9/site-packages/tensorflow/python/autograph/utils/__init__.py:17\u001B[0m\n\u001B[1;32m      1\u001B[0m \u001B[38;5;66;03m# Copyright 2016 The TensorFlow Authors. All Rights Reserved.\u001B[39;00m\n\u001B[1;32m      2\u001B[0m \u001B[38;5;66;03m#\u001B[39;00m\n\u001B[1;32m      3\u001B[0m \u001B[38;5;66;03m# Licensed under the Apache License, Version 2.0 (the \"License\");\u001B[39;00m\n\u001B[0;32m   (...)\u001B[0m\n\u001B[1;32m     13\u001B[0m \u001B[38;5;66;03m# limitations under the License.\u001B[39;00m\n\u001B[1;32m     14\u001B[0m \u001B[38;5;66;03m# ==============================================================================\u001B[39;00m\n\u001B[1;32m     15\u001B[0m \u001B[38;5;124;03m\"\"\"Utility module that contains APIs usable in the generated code.\"\"\"\u001B[39;00m\n\u001B[0;32m---> 17\u001B[0m \u001B[38;5;28;01mfrom\u001B[39;00m \u001B[38;5;21;01mtensorflow\u001B[39;00m\u001B[38;5;21;01m.\u001B[39;00m\u001B[38;5;21;01mpython\u001B[39;00m\u001B[38;5;21;01m.\u001B[39;00m\u001B[38;5;21;01mautograph\u001B[39;00m\u001B[38;5;21;01m.\u001B[39;00m\u001B[38;5;21;01mutils\u001B[39;00m\u001B[38;5;21;01m.\u001B[39;00m\u001B[38;5;21;01mcontext_managers\u001B[39;00m \u001B[38;5;28;01mimport\u001B[39;00m control_dependency_on_returns\n\u001B[1;32m     18\u001B[0m \u001B[38;5;28;01mfrom\u001B[39;00m \u001B[38;5;21;01mtensorflow\u001B[39;00m\u001B[38;5;21;01m.\u001B[39;00m\u001B[38;5;21;01mpython\u001B[39;00m\u001B[38;5;21;01m.\u001B[39;00m\u001B[38;5;21;01mautograph\u001B[39;00m\u001B[38;5;21;01m.\u001B[39;00m\u001B[38;5;21;01mutils\u001B[39;00m\u001B[38;5;21;01m.\u001B[39;00m\u001B[38;5;21;01mmisc\u001B[39;00m \u001B[38;5;28;01mimport\u001B[39;00m alias_tensors\n\u001B[1;32m     19\u001B[0m \u001B[38;5;28;01mfrom\u001B[39;00m \u001B[38;5;21;01mtensorflow\u001B[39;00m\u001B[38;5;21;01m.\u001B[39;00m\u001B[38;5;21;01mpython\u001B[39;00m\u001B[38;5;21;01m.\u001B[39;00m\u001B[38;5;21;01mautograph\u001B[39;00m\u001B[38;5;21;01m.\u001B[39;00m\u001B[38;5;21;01mutils\u001B[39;00m\u001B[38;5;21;01m.\u001B[39;00m\u001B[38;5;21;01mtensor_list\u001B[39;00m \u001B[38;5;28;01mimport\u001B[39;00m dynamic_list_append\n",
      "File \u001B[0;32m~/projects/PHD/DNN/venv/lib/python3.9/site-packages/tensorflow/python/autograph/utils/context_managers.py:19\u001B[0m\n\u001B[1;32m     15\u001B[0m \u001B[38;5;124;03m\"\"\"Various context managers.\"\"\"\u001B[39;00m\n\u001B[1;32m     17\u001B[0m \u001B[38;5;28;01mimport\u001B[39;00m \u001B[38;5;21;01mcontextlib\u001B[39;00m\n\u001B[0;32m---> 19\u001B[0m \u001B[38;5;28;01mfrom\u001B[39;00m \u001B[38;5;21;01mtensorflow\u001B[39;00m\u001B[38;5;21;01m.\u001B[39;00m\u001B[38;5;21;01mpython\u001B[39;00m\u001B[38;5;21;01m.\u001B[39;00m\u001B[38;5;21;01mframework\u001B[39;00m \u001B[38;5;28;01mimport\u001B[39;00m ops\n\u001B[1;32m     20\u001B[0m \u001B[38;5;28;01mfrom\u001B[39;00m \u001B[38;5;21;01mtensorflow\u001B[39;00m\u001B[38;5;21;01m.\u001B[39;00m\u001B[38;5;21;01mpython\u001B[39;00m\u001B[38;5;21;01m.\u001B[39;00m\u001B[38;5;21;01mops\u001B[39;00m \u001B[38;5;28;01mimport\u001B[39;00m tensor_array_ops\n\u001B[1;32m     23\u001B[0m \u001B[38;5;28;01mdef\u001B[39;00m \u001B[38;5;21mcontrol_dependency_on_returns\u001B[39m(return_value):\n",
      "File \u001B[0;32m~/projects/PHD/DNN/venv/lib/python3.9/site-packages/tensorflow/python/framework/ops.py:40\u001B[0m\n\u001B[1;32m     36\u001B[0m \u001B[38;5;28;01mfrom\u001B[39;00m \u001B[38;5;21;01mtensorflow\u001B[39;00m\u001B[38;5;21;01m.\u001B[39;00m\u001B[38;5;21;01mcore\u001B[39;00m\u001B[38;5;21;01m.\u001B[39;00m\u001B[38;5;21;01mprotobuf\u001B[39;00m \u001B[38;5;28;01mimport\u001B[39;00m config_pb2\n\u001B[1;32m     37\u001B[0m \u001B[38;5;66;03m# pywrap_tensorflow must be imported first to avoid protobuf issues.\u001B[39;00m\n\u001B[1;32m     38\u001B[0m \u001B[38;5;66;03m# (b/143110113)\u001B[39;00m\n\u001B[1;32m     39\u001B[0m \u001B[38;5;66;03m# pylint: disable=invalid-import-order,g-bad-import-order,unused-import\u001B[39;00m\n\u001B[0;32m---> 40\u001B[0m \u001B[38;5;28;01mfrom\u001B[39;00m \u001B[38;5;21;01mtensorflow\u001B[39;00m\u001B[38;5;21;01m.\u001B[39;00m\u001B[38;5;21;01mpython\u001B[39;00m \u001B[38;5;28;01mimport\u001B[39;00m pywrap_tensorflow\n\u001B[1;32m     41\u001B[0m \u001B[38;5;28;01mfrom\u001B[39;00m \u001B[38;5;21;01mtensorflow\u001B[39;00m\u001B[38;5;21;01m.\u001B[39;00m\u001B[38;5;21;01mpython\u001B[39;00m \u001B[38;5;28;01mimport\u001B[39;00m pywrap_tfe\n\u001B[1;32m     42\u001B[0m \u001B[38;5;66;03m# pylint: enable=invalid-import-order,g-bad-import-order,unused-import\u001B[39;00m\n",
      "File \u001B[0;32m~/projects/PHD/DNN/venv/lib/python3.9/site-packages/tensorflow/python/pywrap_tensorflow.py:34\u001B[0m\n\u001B[1;32m     29\u001B[0m \u001B[38;5;28;01mfrom\u001B[39;00m \u001B[38;5;21;01mtensorflow\u001B[39;00m\u001B[38;5;21;01m.\u001B[39;00m\u001B[38;5;21;01mpython\u001B[39;00m\u001B[38;5;21;01m.\u001B[39;00m\u001B[38;5;21;01mplatform\u001B[39;00m \u001B[38;5;28;01mimport\u001B[39;00m self_check\n\u001B[1;32m     31\u001B[0m \u001B[38;5;66;03m# TODO(mdan): Cleanup antipattern: import for side effects.\u001B[39;00m\n\u001B[1;32m     32\u001B[0m \n\u001B[1;32m     33\u001B[0m \u001B[38;5;66;03m# Perform pre-load sanity checks in order to produce a more actionable error.\u001B[39;00m\n\u001B[0;32m---> 34\u001B[0m \u001B[43mself_check\u001B[49m\u001B[38;5;241;43m.\u001B[39;49m\u001B[43mpreload_check\u001B[49m\u001B[43m(\u001B[49m\u001B[43m)\u001B[49m\n\u001B[1;32m     36\u001B[0m \u001B[38;5;66;03m# pylint: disable=wildcard-import,g-import-not-at-top,unused-import,line-too-long\u001B[39;00m\n\u001B[1;32m     38\u001B[0m \u001B[38;5;28;01mtry\u001B[39;00m:\n\u001B[1;32m     39\u001B[0m   \u001B[38;5;66;03m# This import is expected to fail if there is an explicit shared object\u001B[39;00m\n\u001B[1;32m     40\u001B[0m   \u001B[38;5;66;03m# dependency (with_framework_lib=true), since we do not need RTLD_GLOBAL.\u001B[39;00m\n",
      "File \u001B[0;32m~/projects/PHD/DNN/venv/lib/python3.9/site-packages/tensorflow/python/platform/self_check.py:63\u001B[0m, in \u001B[0;36mpreload_check\u001B[0;34m()\u001B[0m\n\u001B[1;32m     50\u001B[0m       \u001B[38;5;28;01mraise\u001B[39;00m \u001B[38;5;167;01mImportError\u001B[39;00m(\n\u001B[1;32m     51\u001B[0m           \u001B[38;5;124m\"\u001B[39m\u001B[38;5;124mCould not find the DLL(s) \u001B[39m\u001B[38;5;132;01m%r\u001B[39;00m\u001B[38;5;124m. TensorFlow requires that these DLLs \u001B[39m\u001B[38;5;124m\"\u001B[39m\n\u001B[1;32m     52\u001B[0m           \u001B[38;5;124m\"\u001B[39m\u001B[38;5;124mbe installed in a directory that is named in your \u001B[39m\u001B[38;5;132;01m%%\u001B[39;00m\u001B[38;5;124mPATH\u001B[39m\u001B[38;5;132;01m%%\u001B[39;00m\u001B[38;5;124m \u001B[39m\u001B[38;5;124m\"\u001B[39m\n\u001B[0;32m   (...)\u001B[0m\n\u001B[1;32m     56\u001B[0m           \u001B[38;5;124m\"\u001B[39m\u001B[38;5;124mhttps://support.microsoft.com/help/2977003/the-latest-supported-visual-c-downloads\u001B[39m\u001B[38;5;124m\"\u001B[39m\n\u001B[1;32m     57\u001B[0m           \u001B[38;5;241m%\u001B[39m \u001B[38;5;124m\"\u001B[39m\u001B[38;5;124m or \u001B[39m\u001B[38;5;124m\"\u001B[39m\u001B[38;5;241m.\u001B[39mjoin(missing))\n\u001B[1;32m     58\u001B[0m \u001B[38;5;28;01melse\u001B[39;00m:\n\u001B[1;32m     59\u001B[0m   \u001B[38;5;66;03m# Load a library that performs CPU feature guard checking.  Doing this here\u001B[39;00m\n\u001B[1;32m     60\u001B[0m   \u001B[38;5;66;03m# as a preload check makes it more likely that we detect any CPU feature\u001B[39;00m\n\u001B[1;32m     61\u001B[0m   \u001B[38;5;66;03m# incompatibilities before we trigger them (which would typically result in\u001B[39;00m\n\u001B[1;32m     62\u001B[0m   \u001B[38;5;66;03m# SIGILL).\u001B[39;00m\n\u001B[0;32m---> 63\u001B[0m   \u001B[38;5;28;01mfrom\u001B[39;00m \u001B[38;5;21;01mtensorflow\u001B[39;00m\u001B[38;5;21;01m.\u001B[39;00m\u001B[38;5;21;01mpython\u001B[39;00m\u001B[38;5;21;01m.\u001B[39;00m\u001B[38;5;21;01mplatform\u001B[39;00m \u001B[38;5;28;01mimport\u001B[39;00m _pywrap_cpu_feature_guard\n\u001B[1;32m     64\u001B[0m   _pywrap_cpu_feature_guard\u001B[38;5;241m.\u001B[39mInfoAboutUnusedCPUFeatures()\n",
      "\u001B[0;31mImportError\u001B[0m: dlopen(/Users/smander/projects/PHD/DNN/venv/lib/python3.9/site-packages/tensorflow/python/platform/_pywrap_cpu_feature_guard.so, 0x0002): Library not loaded: @rpath/libtensorflow_cc.2.dylib\n  Referenced from: <327AFC74-CE12-3903-8CAA-371285A02F18> /Users/smander/projects/PHD/DNN/venv/lib/python3.9/site-packages/tensorflow/python/_pywrap_tensorflow_internal.so\n  Reason: tried: '/Users/smander/projects/PHD/DNN/venv/lib/python3.9/site-packages/tensorflow/python/../../_solib_darwin_x86_64/libtensorflow_cc.2.dylib' (no such file), '/Users/smander/projects/PHD/DNN/venv/lib/python3.9/site-packages/tensorflow/python/_pywrap_tensorflow_internal.so.runfiles/org_tensorflow/_solib_darwin_x86_64/libtensorflow_cc.2.dylib' (no such file), '/Users/smander/projects/PHD/DNN/venv/lib/python3.9/site-packages/tensorflow/python/../../_solib_darwin_x86_64/_U_S_Stensorflow_Spython_C_Upywrap_Utensorflow_Uinternal.so_Ucclib___Utensorflow/libtensorflow_cc.2.dylib' (no such file), '/Users/smander/projects/PHD/DNN/venv/lib/python3.9/site-packages/tensorflow/python/_pywrap_tensorflow_internal.so.runfiles/org_tensorflow/_solib_darwin_x86_64/_U_S_Stensorflow_Spython_C_Upywrap_Utensorflow_Uinternal.so_Ucclib___Utensorflow/libtensorflow_cc.2.dylib' (no such file), '/Users/smander/projects/PHD/DNN/venv/lib/python3.9/site-packages/tensorflow/python/libtensorflow_cc.2.dylib' (no such file), '/Users/smander/projects/PHD/DNN/venv/lib/python3.9/site-packages/tensorflow/python/../libtensorflow_cc.2.dylib' (no such file), '/Users/smander/projects/PHD/DNN/venv/lib/python3.9/site-packages/tensorflow/python/platform/../../../_solib_darwin_x86_64/_U_S_Stensorflow_Clibtensorflow_Uframework_Uimport_Ulib___Utensorflow/libtensorflow_cc.2.dylib' (no such file), '/Users/smander/projects/PHD/DNN/venv/lib/python3.9/site-packages/tensorflow/python/platform/_pywrap_cpu_feature_guard.so.runfiles/org_tensorflow/_solib_darwin_x86_64/_U_S_Stensorflow_Clibtensorflow_Uframework_Uimport_Ulib___Utensorflow/libtensorflow_cc.2.dylib' (no such file), '/Users/smander/projects/PHD/DNN/venv/lib/python3.9/site-packages/tensorflow/python/platform/../../../_solib_darwin_x86_64/_U_S_Stensorflow_Spython_C_Upywrap_Utensorflow_Uinternal_Umacos___Utensorflow_Spython/libtensorflow_cc.2.dylib' (no such file), '/Users/smander/projects/PHD/DNN/venv/lib/python3.9/site-packages/tensorflow/python/platform/_pywrap_cpu_feature_guard.so.runfiles/org_tensorflow/_solib_darwin_x86_64/_U_S_Stensorflow_Spython_C_Upywrap_Utensorflow_Uinternal_Umacos___Utensorflow_Spython/libtensorflow_cc.2.dylib' (no such file), '/Users/smander/projects/PHD/DNN/venv/lib/python3.9/site-packages/tensorflow/python/platform/libtensorflow_cc.2.dylib' (no such file), '/Users/smander/projects/PHD/DNN/venv/lib/python3.9/site-packages/tensorflow/python/platform/../libtensorflow_cc.2.dylib' (no such file), '/Users/smander/projects/PHD/DNN/venv/lib/python3.9/site-packages/tensorflow/python/platform/../../libtensorflow_cc.2.dylib' (no such file), '/Users/smander/projects/PHD/DNN/venv/lib/python3.9/site-packages/tensorflow/python/platform/../../../_solib_darwin_x86_64/_U_S_Stensorflow_Clibtensorflow_Uframework_Uimport_Ulib___Utensorflow/libtensorflow_cc.2.dylib' (no such file), '/Users/smander/projects/PHD/DNN/venv/lib/python3.9/site-packages/tensorflow/python/platform/_pywrap_cpu_feature_guard.so.runfiles/org_tensorflow/_solib_darwin_x86_64/_U_S_Stensorflow_Clibtensorflow_Uframework_Uimport_Ulib___Utensorflow/libtensorflow_cc.2.dylib' (no such file), '/Users/smander/projects/PHD/DNN/venv/lib/python3.9/site-packages/tensorflow/python/platform/../../../_solib_darwin_x86_64/_U_S_Stensorflow_Spython_C_Upywrap_Utensorflow_Uinternal_Umacos___Utensorflow_Spython/libtensorflow_cc.2.dylib' (no such file), '/Users/smander/projects/PHD/DNN/venv/lib/python3.9/site-packages/tensorflow/python/platform/_pywrap_cpu_feature_guard.so.runfiles/org_tensorflow/_solib_darwin_x86_64/_U_S_Stensorflow_Spython_C_Upywrap_Utensorflow_Uinternal_Umacos___Utensorflow_Spython/libtensorflow_cc.2.dylib' (no such file), '/Users/smander/projects/PHD/DNN/venv/lib/python3.9/site-packages/tensorflow/python/platform/libtensorflow_cc.2.dylib' (no such file), '/Users/smander/projects/PHD/DNN/venv/lib/python3.9/site-packages/tensorflow/python/platform/../libtensorflow_cc.2.dylib' (no such file), '/Users/smander/projects/PHD/DNN/venv/lib/python3.9/site-packages/tensorflow/python/platform/../../libtensorflow_cc.2.dylib' (no such file), '/usr/local/lib/libtensorflow_cc.2.dylib' (no such file), '/System/Volumes/Preboot/Cryptexes/OS/usr/local/lib/libtensorflow_cc.2.dylib' (no such file), '/usr/local/lib/libtensorflow_cc.2.dylib' (no such file), '/System/Volumes/Preboot/Cryptexes/OS/usr/local/lib/libtensorflow_cc.2.dylib' (no such file), '/usr/local/lib/libtensorflow_cc.2.dylib' (no such file), '/usr/lib/libtensorflow_cc.2.dylib' (no such file, not in dyld cache)"
     ]
    }
   ],
   "source": [
    "import numpy as np\n",
    "from tensorflow.keras.preprocessing.sequence import TimeseriesGenerator\n",
    "\n",
    "# Convert time series to numpy array for LSTM\n",
    "data = np.array([value for _, value in time_series])\n",
    "data = data.reshape((-1, 1))\n",
    "\n",
    "# Define a sequence length and generate time-series batches for LSTM\n",
    "sequence_length = 3\n",
    "generator = TimeseriesGenerator(data, data, length=sequence_length, batch_size=1)\n"
   ],
   "metadata": {
    "collapsed": false
   }
  },
  {
   "cell_type": "code",
   "execution_count": null,
   "outputs": [],
   "source": [],
   "metadata": {
    "collapsed": false
   }
  },
  {
   "cell_type": "code",
   "execution_count": null,
   "outputs": [],
   "source": [],
   "metadata": {
    "collapsed": false
   }
  },
  {
   "cell_type": "code",
   "execution_count": null,
   "outputs": [],
   "source": [
    "from tensorflow.keras.models import Sequential\n",
    "from tensorflow.keras.layers import LSTM, Dense\n",
    "\n",
    "# Define the LSTM model\n",
    "model = Sequential([\n",
    "    LSTM(50, activation='relu', input_shape=(sequence_length, 1)),\n",
    "    Dense(1)\n",
    "])\n",
    "\n",
    "# Compile the model\n",
    "model.compile(optimizer='adam', loss='mse')\n",
    "\n",
    "# Train the model\n",
    "model.fit(generator, epochs=100)\n"
   ],
   "metadata": {
    "collapsed": false
   }
  },
  {
   "cell_type": "code",
   "execution_count": null,
   "outputs": [],
   "source": [],
   "metadata": {
    "collapsed": false
   }
  },
  {
   "cell_type": "code",
   "execution_count": null,
   "outputs": [],
   "source": [
    "# Predict the next value\n",
    "predicted_temperature = model.predict(generator)\n",
    "\n",
    "# Apply constraints post-prediction using symbolic AI\n",
    "# For instance, ensure the predicted temperature does not exceed physical limits\n",
    "max_temp = 35  # Maximum allowed temperature (constraint)\n",
    "adjusted_prediction = min(predicted_temperature[0][0], max_temp)\n",
    "\n",
    "print(f\"Predicted temperature: {predicted_temperature[0][0]}, Adjusted for constraint: {adjusted_prediction}\")\n",
    "\n"
   ],
   "metadata": {
    "collapsed": false
   }
  },
  {
   "cell_type": "code",
   "execution_count": 2,
   "outputs": [
    {
     "name": "stdout",
     "output_type": "stream",
     "text": [
      "Requirement already satisfied: pip in /Users/smander/projects/PHD/DNN/venv/lib/python3.9/site-packages (22.3.1)\r\n",
      "Collecting pip\r\n",
      "  Downloading pip-24.3.1-py3-none-any.whl (1.8 MB)\r\n",
      "\u001B[2K     \u001B[90m━━━━━━━━━━━━━━━━━━━━━━━━━━━━━━━━━━━━━━━━\u001B[0m \u001B[32m1.8/1.8 MB\u001B[0m \u001B[31m5.3 MB/s\u001B[0m eta \u001B[36m0:00:00\u001B[0m00:01\u001B[0m00:01\u001B[0m\r\n",
      "\u001B[?25hInstalling collected packages: pip\r\n",
      "  Attempting uninstall: pip\r\n",
      "    Found existing installation: pip 22.3.1\r\n",
      "    Uninstalling pip-22.3.1:\r\n",
      "      Successfully uninstalled pip-22.3.1\r\n",
      "Successfully installed pip-24.3.1\r\n",
      "\u001B[31mERROR: Could not find a version that satisfies the requirement symbolic-ai (from versions: none)\u001B[0m\u001B[31m\r\n",
      "\u001B[0m\u001B[31mERROR: No matching distribution found for symbolic-ai\u001B[0m\u001B[31m\r\n",
      "\u001B[0m"
     ]
    }
   ],
   "source": [
    "!pip install --upgrade pip\n",
    "!pip install symbolic-ai\n"
   ],
   "metadata": {
    "collapsed": false,
    "ExecuteTime": {
     "start_time": "2024-11-09T20:03:21.734826Z",
     "end_time": "2024-11-09T20:03:30.260839Z"
    }
   }
  },
  {
   "cell_type": "code",
   "execution_count": 3,
   "outputs": [
    {
     "name": "stdout",
     "output_type": "stream",
     "text": [
      "\u001B[31mERROR: Could not find a version that satisfies the requirement symai (from versions: none)\u001B[0m\u001B[31m\r\n",
      "\u001B[0m\u001B[31mERROR: No matching distribution found for symai\u001B[0m\u001B[31m\r\n",
      "\u001B[0m"
     ]
    },
    {
     "ename": "ModuleNotFoundError",
     "evalue": "No module named 'symai'",
     "output_type": "error",
     "traceback": [
      "\u001B[0;31m---------------------------------------------------------------------------\u001B[0m",
      "\u001B[0;31mModuleNotFoundError\u001B[0m                       Traceback (most recent call last)",
      "Cell \u001B[0;32mIn[3], line 2\u001B[0m\n\u001B[1;32m      1\u001B[0m get_ipython()\u001B[38;5;241m.\u001B[39msystem(\u001B[38;5;124m'\u001B[39m\u001B[38;5;124mpip install symai\u001B[39m\u001B[38;5;124m'\u001B[39m)\n\u001B[0;32m----> 2\u001B[0m \u001B[38;5;28;01mimport\u001B[39;00m \u001B[38;5;21;01msymai\u001B[39;00m \u001B[38;5;28;01mas\u001B[39;00m \u001B[38;5;21;01mai\u001B[39;00m\n",
      "\u001B[0;31mModuleNotFoundError\u001B[0m: No module named 'symai'"
     ]
    }
   ],
   "source": [
    "!pip install symai\n",
    "import symai as ai"
   ],
   "metadata": {
    "collapsed": false
   }
  },
  {
   "cell_type": "code",
   "execution_count": null,
   "outputs": [],
   "source": [
    "from symbolic import Symbol, Rule, KnowledgeBase\n",
    "\n",
    "# Define symbols (variables) for packet attributes\n",
    "packet_size = Symbol('packet_size')\n",
    "is_large_packet = Symbol('is_large_packet')\n",
    "\n",
    "# Define rules for the knowledge base\n",
    "rules = [\n",
    "    Rule(packet_size >= 64, \"Packet size must be at least 64 bytes.\"),\n",
    "    Rule(packet_size <= 1500, \"Packet size must not exceed 1500 bytes.\"),\n",
    "    Rule(packet_size > 1000, \"Large Packet\", implies=is_large_packet)\n",
    "]\n",
    "\n",
    "# Create a knowledge base and add rules\n",
    "kb = KnowledgeBase(rules)\n",
    "\n",
    "# Check if a given packet size satisfies all constraints\n",
    "packet_example = {'packet_size': 2000}  # Hypothetical packet size\n",
    "\n",
    "if kb.satisfies(packet_example):\n",
    "    print(\"Packet satisfies protocol constraints.\")\n",
    "else:\n",
    "    print(\"Packet violates protocol constraints.\")\n"
   ],
   "metadata": {
    "collapsed": false
   }
  },
  {
   "cell_type": "code",
   "execution_count": null,
   "outputs": [],
   "source": [
    "# Define a packet size that we want to check\n",
    "packet_example = {'packet_size': 1200}\n",
    "\n",
    "# Add inference capability to deduce if the packet is large\n",
    "inferred = kb.infer(packet_example)\n",
    "print(f\"Inferred properties: {inferred}\")\n"
   ],
   "metadata": {
    "collapsed": false
   }
  },
  {
   "cell_type": "code",
   "execution_count": null,
   "outputs": [],
   "source": [
    "# Predicted packet size from LSTM\n",
    "predicted_size = 1800  # Example neural network prediction\n",
    "\n",
    "# Validate prediction against symbolic constraints\n",
    "packet_example = {'packet_size': predicted_size}\n",
    "if kb.satisfies(packet_example):\n",
    "    print(f\"Predicted size {predicted_size} is valid.\")\n",
    "else:\n",
    "    # Adjust the prediction to fit within constraints\n",
    "    adjusted_size = min(max(predicted_size, 64), 1500)\n",
    "    print(f\"Adjusted size to meet constraints: {adjusted_size}\")\n"
   ],
   "metadata": {
    "collapsed": false
   }
  }
 ],
 "metadata": {
  "kernelspec": {
   "display_name": "Python 3",
   "language": "python",
   "name": "python3"
  },
  "language_info": {
   "codemirror_mode": {
    "name": "ipython",
    "version": 2
   },
   "file_extension": ".py",
   "mimetype": "text/x-python",
   "name": "python",
   "nbconvert_exporter": "python",
   "pygments_lexer": "ipython2",
   "version": "2.7.6"
  }
 },
 "nbformat": 4,
 "nbformat_minor": 0
}
